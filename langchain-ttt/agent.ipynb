{
 "cells": [
  {
   "cell_type": "code",
   "execution_count": 18,
   "id": "0083f3f9-6c69-4f1d-b82f-41d160e2e781",
   "metadata": {},
   "outputs": [],
   "source": [
    "import os"
   ]
  },
  {
   "cell_type": "code",
   "execution_count": 19,
   "id": "23772a6f-481f-4c7b-a77c-521fae0487e3",
   "metadata": {},
   "outputs": [
    {
     "data": {
      "text/plain": [
       "'e8594216a33f9f37f383e66016ee30f823ef566089adc04e312dd6edcd09d148'"
      ]
     },
     "execution_count": 19,
     "metadata": {},
     "output_type": "execute_result"
    }
   ],
   "source": [
    "os.environ.get('SERPAPI_API_KEY')"
   ]
  },
  {
   "cell_type": "code",
   "execution_count": 20,
   "id": "0e6443a5-504e-4448-9072-0ac761285dd3",
   "metadata": {},
   "outputs": [],
   "source": [
    "from langchain_community.llms import OpenAI"
   ]
  },
  {
   "cell_type": "code",
   "execution_count": 21,
   "id": "746d8017-9088-4225-99ee-698bf67cabc8",
   "metadata": {},
   "outputs": [],
   "source": [
    "from langchain_community.utilities import SerpAPIWrapper"
   ]
  },
  {
   "cell_type": "code",
   "execution_count": 22,
   "id": "2b18f0ef-f32b-4718-bd80-8e9c18977cad",
   "metadata": {},
   "outputs": [],
   "source": [
    "from langchain.agents import initialize_agent,AgentType,Tool"
   ]
  },
  {
   "cell_type": "code",
   "execution_count": 23,
   "id": "5388ff5f-d0ea-43e8-b608-a36e0ca0aea2",
   "metadata": {},
   "outputs": [],
   "source": [
    "llm = OpenAI(temperature=0)"
   ]
  },
  {
   "cell_type": "code",
   "execution_count": 24,
   "id": "8aee4db8-19a5-4cd0-8f6c-a4d1be48bf1a",
   "metadata": {},
   "outputs": [
    {
     "data": {
      "text/plain": [
       "'gpt-3.5-turbo-instruct'"
      ]
     },
     "execution_count": 24,
     "metadata": {},
     "output_type": "execute_result"
    }
   ],
   "source": [
    "llm.model_name"
   ]
  },
  {
   "cell_type": "code",
   "execution_count": 25,
   "id": "e59f71e8-315d-4342-b489-e8172d64abc5",
   "metadata": {},
   "outputs": [],
   "source": [
    "search = SerpAPIWrapper()\n",
    "tools = [\n",
    "    Tool(\n",
    "        name=\"Intermediate Answer\",\n",
    "        func=search.run,\n",
    "        description=\"useful for when you need to ask with search\",\n",
    "    )\n",
    "]"
   ]
  },
  {
   "cell_type": "code",
   "execution_count": 27,
   "id": "28115a7c-b80d-4169-a5e3-93b78847bcd5",
   "metadata": {},
   "outputs": [],
   "source": [
    "self_ask_with_search = initialize_agent(\n",
    "    tools, llm, agent=AgentType.ZERO_SHOT_REACT_DESCRIPTION, verbose=True\n",
    ")"
   ]
  },
  {
   "cell_type": "code",
   "execution_count": 28,
   "id": "d67de3f1-3c8e-42cf-9a09-6215a3139c02",
   "metadata": {},
   "outputs": [
    {
     "name": "stdout",
     "output_type": "stream",
     "text": [
      "\n",
      "\n",
      "\u001b[1m> Entering new AgentExecutor chain...\u001b[0m\n",
      "\u001b[32;1m\u001b[1;3m I should use the Intermediate Answer tool to search for the answer.\n",
      "Action: Intermediate Answer\n",
      "Action Input: \"成都举办的大运会是第几届大运会？\"\u001b[0m\n",
      "Observation: \u001b[36;1m\u001b[1;3m大运会所有必选竞赛项目全部是奥运项目，竞赛管理由国际单项体育组织按照奥运标准实施，是规模仅次于奥运会的世界综合性运动会，素有“小奥运会”之称。 2023年7月28日至8月8日，第31届世界大学生夏季运动会在四川成都举办。\u001b[0m\n",
      "Thought:\u001b[32;1m\u001b[1;3m I now know the final answer.\n",
      "Final Answer: 第31届\u001b[0m\n",
      "\n",
      "\u001b[1m> Finished chain.\u001b[0m\n"
     ]
    },
    {
     "data": {
      "text/plain": [
       "'第31届'"
      ]
     },
     "execution_count": 28,
     "metadata": {},
     "output_type": "execute_result"
    }
   ],
   "source": [
    "# 实际运行 Agent，查询问题（正确）\n",
    "self_ask_with_search.run(\n",
    "    \"成都举办的大运会是第几届大运会？\"\n",
    ")"
   ]
  },
  {
   "cell_type": "code",
   "execution_count": 29,
   "id": "8ede7199-80bd-4475-9a53-8d8d31fa5761",
   "metadata": {},
   "outputs": [
    {
     "name": "stdout",
     "output_type": "stream",
     "text": [
      "\n",
      "\n",
      "\u001b[1m> Entering new AgentExecutor chain...\u001b[0m\n",
      "\u001b[32;1m\u001b[1;3m I should use the Intermediate Answer tool to search for the year that Messi won the World Cup.\n",
      "Action: Intermediate Answer\n",
      "Action Input: \"When did Messi win the World Cup?\"\u001b[0m\n",
      "Observation: \u001b[36;1m\u001b[1;3mSince he made his first team debut for FC Barcelona in 2003, Lionel Messi has won numerous trophies for club and country. With the Argentine squad, Messi won the FIFA World Cup in 2022. He was also able to lift the Copa América with his team in 2021.\u001b[0m\n",
      "Thought:\u001b[32;1m\u001b[1;3m I now know the final answer\n",
      "Final Answer: Messi won the World Cup in 2022.\u001b[0m\n",
      "\n",
      "\u001b[1m> Finished chain.\u001b[0m\n"
     ]
    },
    {
     "data": {
      "text/plain": [
       "'Messi won the World Cup in 2022.'"
      ]
     },
     "execution_count": 29,
     "metadata": {},
     "output_type": "execute_result"
    }
   ],
   "source": [
    "# 实际运行 Agent，查询问题（正确）\n",
    "self_ask_with_search.run(\n",
    "    \"梅西在哪一年获得世界杯冠军？\"\n",
    ")"
   ]
  },
  {
   "cell_type": "code",
   "execution_count": 51,
   "id": "7045a4c5-a567-4c2b-a480-1f71d0b856a8",
   "metadata": {},
   "outputs": [],
   "source": [
    "from langchain.chat_models import ChatOpenAI\n",
    "chat_model  = ChatOpenAI(model=\"gpt-4-0613\",temperature=0)"
   ]
  },
  {
   "cell_type": "code",
   "execution_count": 55,
   "id": "a07ac38b-0d61-4e98-8426-aba11c65010b",
   "metadata": {},
   "outputs": [
    {
     "data": {
      "text/plain": [
       "'gpt-4-0613'"
      ]
     },
     "execution_count": 55,
     "metadata": {},
     "output_type": "execute_result"
    }
   ],
   "source": [
    "chat_model.model_name"
   ]
  },
  {
   "cell_type": "code",
   "execution_count": 40,
   "id": "e70ee205-d9c0-42f7-9a5f-44f81498d0c7",
   "metadata": {},
   "outputs": [],
   "source": [
    "import openai"
   ]
  },
  {
   "cell_type": "code",
   "execution_count": 46,
   "id": "d0bb300f-e69d-4c83-bc2b-8998709f0b90",
   "metadata": {},
   "outputs": [],
   "source": [
    "cli = openai.OpenAI()"
   ]
  },
  {
   "cell_type": "code",
   "execution_count": 47,
   "id": "0ce64c6d-1fb5-4524-b927-874df6c37f2a",
   "metadata": {},
   "outputs": [],
   "source": [
    "models = cli.models.list()"
   ]
  },
  {
   "cell_type": "code",
   "execution_count": 50,
   "id": "530f593f-a5f2-42cf-9957-c7423e55434c",
   "metadata": {},
   "outputs": [
    {
     "data": {
      "text/plain": [
       "[Model(id='whisper-1', created=1677532384, object='model', owned_by='openai-internal'),\n",
       " Model(id='tts-1', created=1681940951, object='model', owned_by='openai-internal'),\n",
       " Model(id='dall-e-2', created=1698798177, object='model', owned_by='system'),\n",
       " Model(id='tts-1-hd-1106', created=1699053533, object='model', owned_by='system'),\n",
       " Model(id='tts-1-hd', created=1699046015, object='model', owned_by='system'),\n",
       " Model(id='gpt-4-turbo-2024-04-09', created=1712601677, object='model', owned_by='system'),\n",
       " Model(id='gpt-4-turbo', created=1712361441, object='model', owned_by='system'),\n",
       " Model(id='gpt-3.5-turbo-1106', created=1698959748, object='model', owned_by='system'),\n",
       " Model(id='dall-e-3', created=1698785189, object='model', owned_by='system'),\n",
       " Model(id='gpt-4-0125-preview', created=1706037612, object='model', owned_by='system'),\n",
       " Model(id='gpt-4-turbo-preview', created=1706037777, object='model', owned_by='system'),\n",
       " Model(id='text-embedding-3-small', created=1705948997, object='model', owned_by='system'),\n",
       " Model(id='text-embedding-3-large', created=1705953180, object='model', owned_by='system'),\n",
       " Model(id='gpt-3.5-turbo-16k', created=1683758102, object='model', owned_by='openai-internal'),\n",
       " Model(id='gpt-4-1106-preview', created=1698957206, object='model', owned_by='system'),\n",
       " Model(id='babbage-002', created=1692634615, object='model', owned_by='system'),\n",
       " Model(id='gpt-4o-2024-05-13', created=1715368132, object='model', owned_by='system'),\n",
       " Model(id='gpt-4', created=1687882411, object='model', owned_by='openai'),\n",
       " Model(id='gpt-4-0613', created=1686588896, object='model', owned_by='openai'),\n",
       " Model(id='gpt-3.5-turbo-0125', created=1706048358, object='model', owned_by='system'),\n",
       " Model(id='tts-1-1106', created=1699053241, object='model', owned_by='system'),\n",
       " Model(id='gpt-3.5-turbo', created=1677610602, object='model', owned_by='openai'),\n",
       " Model(id='gpt-3.5-turbo-instruct', created=1692901427, object='model', owned_by='system'),\n",
       " Model(id='gpt-3.5-turbo-instruct-0914', created=1694122472, object='model', owned_by='system'),\n",
       " Model(id='text-embedding-ada-002', created=1671217299, object='model', owned_by='openai-internal'),\n",
       " Model(id='davinci-002', created=1692634301, object='model', owned_by='system'),\n",
       " Model(id='gpt-4o', created=1715367049, object='model', owned_by='system')]"
      ]
     },
     "execution_count": 50,
     "metadata": {},
     "output_type": "execute_result"
    }
   ],
   "source": [
    "models.data"
   ]
  },
  {
   "cell_type": "code",
   "execution_count": 53,
   "id": "963da309-e10f-4cf4-9605-c5099c3a120e",
   "metadata": {},
   "outputs": [],
   "source": [
    "self_ask_with_search_chat = initialize_agent(\n",
    "    tools,chat_model,agent=AgentType.SELF_ASK_WITH_SEARCH, verbose=True)"
   ]
  },
  {
   "cell_type": "code",
   "execution_count": 54,
   "id": "0b0b7d22-a05e-4216-a409-a374724732ab",
   "metadata": {},
   "outputs": [
    {
     "name": "stdout",
     "output_type": "stream",
     "text": [
      "\n",
      "\n",
      "\u001b[1m> Entering new AgentExecutor chain...\u001b[0m\n",
      "\u001b[32;1m\u001b[1;3mYes.\n",
      "Follow up: 什么是大运会？\u001b[0m\n",
      "Intermediate answer: \u001b[36;1m\u001b[1;3m['The FISU World University Games, formerly the Universiade, is an international multi-sport event, organized for university athletes by the International University Sports Federation. The former name is a portmanteau of the words \"University\" and \"Olympiad\".', 'FISU World University Games (世界大学生运动会) entity_type: events, kp3_verticals.', 'FISU World University Games (世界大学生运动会) kgmid: /m/04xx1m.', 'FISU World University Games (世界大学生运动会) next_date: Wed, Jul 16, 2025 – Sun, Jul 27, 2025.', 'FISU World University Games (世界大学生运动会) frequency: biennial.', 'FISU World University Games (世界大学生运动会) organised_by: FISU.', '国际大学生体育联合会世界大学生运动会（英语：FISU World University Games），简称世界大学生运动会、大学生运动会、大运会，是由国际大学生体育联合会（法语：Fédération Internationale du Sport Universitaire，缩写FISU）主办，专供大学生运动员参加的 ...', '世界大学生运动会是国际大学生体育联合会主办的世界综合性体育赛事。世界大运会分为“世界大学生夏季运动会”、“世界大学生冬季运动会”。', '世界大学生夏季运动会，素有\"小奥运会\"之称，由国际大学生体育联合会(Federation Internationale du Sport Universitaire)主办，只限在校大学生和毕业不超过两年的大学生(年龄限制为17-28岁)参加的世界大型综合性运动会。 始办于1959年，其前身为国际大学生运动会。', '世界大学生运动会是国际大学生体育联合会主办的世界性综合运动会，它由三大赛事组成，即“世界大学生夏季运动会”、“世界大学生冬季运动会”和“世界大学生体育锦标赛”。 · 上 ...', '大运会，全称世界大学生夏季运动会（World University Summer Games），是由国际大学生体育联合会（FISU）组织的国际性体育赛事，汇聚来自世界各地的 ...', '2021年夏季世界大学生运动会（英语：2021 Summer World University Games）简称为2021年成都大运会或成都大运会，是第31届夏季世界大学生运动会，原定于2021年于中国四川省成都市举行，后因2019冠状病毒病疫情等原因二次延期，最终改至2023年7月28日至8月8日举行。', '大运会的全称为世界大学生运动会，只限在校大学生和毕业不超过两年的大学生（年龄限制为17-28岁）参加的世界大型综合性运动会。', '世界大学生运动会是由国际大学生体育联合会于1959年创办，与奥运会、世界运动会并称为世界三大综合性体育赛事，素有“小奥运”之称，至今已举办30届。', '成都大运会即将在7月28日举行。大运会全称世界大学生运动会，与奥运会、世界运动会并称为世界三大综合性体育赛事，是体育赛事的“顶流”，而为什么 ...', '世界大学生运动会由国际大学生体育联合会主办，包括“夏季运动会”“冬季运动会”，每两年举办一届，只限在校大学生和毕业不超过2年的大学生（年龄17—28 ...']\u001b[0m\n",
      "\u001b[32;1m\u001b[1;3mFollow up: 2023年的大运会将在哪里举行？\u001b[0m\n",
      "Intermediate answer: \u001b[36;1m\u001b[1;3m2018年3月5日正式宣布普莱西德湖成为2023年冬季大运会的主办城市，国际大体联官员称这是大运会申办历史上最强有力的一次。 由于2021年冬季世界大学生运动会因2019冠状病毒病疫情而取消，将大运会会旗正式移交给普莱西德湖的仪式改在2022年1月于都灵举行。\u001b[0m\n",
      "\u001b[32;1m\u001b[1;3mSo the final answer is: 普莱西德湖\u001b[0m\n",
      "\n",
      "\u001b[1m> Finished chain.\u001b[0m\n"
     ]
    },
    {
     "data": {
      "text/plain": [
       "'普莱西德湖'"
      ]
     },
     "execution_count": 54,
     "metadata": {},
     "output_type": "execute_result"
    }
   ],
   "source": [
    "# GPT-4 based ReAct 答案（正确）\n",
    "self_ask_with_search_chat.run(\n",
    "    \"2023年大运会举办地在哪里？\"\n",
    ")"
   ]
  },
  {
   "cell_type": "code",
   "execution_count": 60,
   "id": "e150bf8a-ad13-4ba6-ae0d-9c2b9156e5a1",
   "metadata": {},
   "outputs": [],
   "source": [
    "from langchain.agents import load_tools"
   ]
  },
  {
   "cell_type": "code",
   "execution_count": 62,
   "id": "6849ac96-26fc-4b6d-8d85-3200adf7a7d9",
   "metadata": {},
   "outputs": [],
   "source": [
    "from langchain.agents import initialize_agent"
   ]
  },
  {
   "cell_type": "code",
   "execution_count": 63,
   "id": "94e033b1-bc7f-4c4d-9114-9238d6210ea2",
   "metadata": {},
   "outputs": [],
   "source": [
    "from langchain.agents import AgentType"
   ]
  },
  {
   "cell_type": "code",
   "execution_count": 66,
   "id": "c918245b-4377-4e2d-b1dd-a9e94d0e1f11",
   "metadata": {},
   "outputs": [],
   "source": [
    "tools = load_tools([\"serpapi\", \"llm-math\"],llm=llm)"
   ]
  },
  {
   "cell_type": "code",
   "execution_count": 67,
   "id": "f4f1dd4d-f15f-4ebe-ab33-461e7379aeff",
   "metadata": {},
   "outputs": [],
   "source": [
    "agent = initialize_agent(tools,llm,agent=AgentType.ZERO_SHOT_REACT_DESCRIPTION, verbose=True)"
   ]
  },
  {
   "cell_type": "code",
   "execution_count": 68,
   "id": "ce449e53-3e73-454d-9067-d0fc4e4ad07e",
   "metadata": {},
   "outputs": [
    {
     "name": "stdout",
     "output_type": "stream",
     "text": [
      "\n",
      "\n",
      "\u001b[1m> Entering new AgentExecutor chain...\u001b[0m\n",
      "\u001b[32;1m\u001b[1;3m I should use a search engine to find information about Leonardo DiCaprio's girlfriend.\n",
      "Action: Search\n",
      "Action Input: \"Leonardo DiCaprio girlfriend\"\u001b[0m\n",
      "Observation: \u001b[36;1m\u001b[1;3mVittoria Ceretti\u001b[0m\n",
      "Thought:\u001b[32;1m\u001b[1;3m Now I need to use a calculator to calculate 0.43 times her age.\n",
      "Action: Calculator\n",
      "Action Input: 0.43 * 23\u001b[0m\n",
      "Observation: \u001b[33;1m\u001b[1;3mAnswer: 9.89\u001b[0m\n",
      "Thought:\u001b[32;1m\u001b[1;3m I now know the final answer.\n",
      "Final Answer: Vittoria Ceretti's age is approximately 9.89.\u001b[0m\n",
      "\n",
      "\u001b[1m> Finished chain.\u001b[0m\n"
     ]
    },
    {
     "data": {
      "text/plain": [
       "\"Vittoria Ceretti's age is approximately 9.89.\""
      ]
     },
     "execution_count": 68,
     "metadata": {},
     "output_type": "execute_result"
    }
   ],
   "source": [
    "agent.run(\"谁是莱昂纳多·迪卡普里奥的女朋友？她现在年龄的0.43次方是多少?\")\n"
   ]
  },
  {
   "cell_type": "code",
   "execution_count": 69,
   "id": "da3e8760-d821-4634-af58-2eca0fa70ef7",
   "metadata": {},
   "outputs": [
    {
     "name": "stdout",
     "output_type": "stream",
     "text": [
      "\n",
      "\n",
      "\u001b[1m> Entering new AgentExecutor chain...\u001b[0m\n",
      "\u001b[32;1m\u001b[1;3mQuestion: 谁是莱昂纳多·迪卡普里奥的女朋友？\n",
      "Thought: 首先，我需要找出莱昂纳多·迪卡普里奥当前的女朋友是谁。这是一个关于当前事件的问题，所以我将使用搜索工具来找到答案。\n",
      "Action:\n",
      "```json\n",
      "{\n",
      "  \"action\": \"Search\",\n",
      "  \"action_input\": \"Leonardo DiCaprio current girlfriend 2023\"\n",
      "}\n",
      "```\n",
      "\u001b[0m\n",
      "Observation: \u001b[36;1m\u001b[1;3mVittoria Ceretti\u001b[0m\n",
      "Thought:\u001b[32;1m\u001b[1;3mThought: Now that I know Leonardo DiCaprio's current girlfriend is Vittoria Ceretti, I need to find out her age to calculate the 0.43rd power of her age.\n",
      "\n",
      "Action:\n",
      "```json\n",
      "{\n",
      "  \"action\": \"Search\",\n",
      "  \"action_input\": \"Vittoria Ceretti age\"\n",
      "}\n",
      "```\n",
      "\n",
      "\u001b[0m\n",
      "Observation: \u001b[36;1m\u001b[1;3m26 years\u001b[0m\n",
      "Thought:\u001b[32;1m\u001b[1;3mNow that I know Vittoria Ceretti is 26 years old, I can calculate the 0.43rd power of her age.\n",
      "\n",
      "Action:\n",
      "```json\n",
      "{\n",
      "  \"action\": \"Calculator\",\n",
      "  \"action_input\": {\n",
      "    \"expression\": \"26^0.43\"\n",
      "  }\n",
      "}\n",
      "```\n",
      "\n",
      "\u001b[0m\n",
      "Observation: \u001b[33;1m\u001b[1;3mAnswer: 4.059182145592686\u001b[0m\n",
      "Thought:\u001b[32;1m\u001b[1;3mI now know the final answer to the question about the 0.43rd power of Vittoria Ceretti's age.\n",
      "\n",
      "Final Answer: Vittoria Ceretti is Leonardo DiCaprio's girlfriend, and the 0.43rd power of her age, which is 26, is approximately 4.06.\u001b[0m\n",
      "\n",
      "\u001b[1m> Finished chain.\u001b[0m\n"
     ]
    },
    {
     "data": {
      "text/plain": [
       "\"Vittoria Ceretti is Leonardo DiCaprio's girlfriend, and the 0.43rd power of her age, which is 26, is approximately 4.06.\""
      ]
     },
     "execution_count": 69,
     "metadata": {},
     "output_type": "execute_result"
    }
   ],
   "source": [
    "from langchain_openai import ChatOpenAI\n",
    "\n",
    "chat_model = ChatOpenAI(model=\"gpt-4-1106-preview\", temperature=0)\n",
    "agent = initialize_agent(tools, chat_model, agent=AgentType.CHAT_ZERO_SHOT_REACT_DESCRIPTION, verbose=True)\n",
    "agent.run(\"谁是莱昂纳多·迪卡普里奥的女朋友？她现在年龄的0.43次方是多少?\")"
   ]
  },
  {
   "cell_type": "code",
   "execution_count": 73,
   "id": "21d1296a-65c8-4b02-a772-7f6f5962c778",
   "metadata": {},
   "outputs": [
    {
     "name": "stdout",
     "output_type": "stream",
     "text": [
      "\n",
      "\n",
      "\u001b[1m> Entering new AgentExecutor chain...\u001b[0m\n",
      "\u001b[32;1m\u001b[1;3mQuestion: gpt-4o-2024-05-13 是不是对话模型？如果不是哪个是最近的一次对话模型是哪个？\n",
      "Thought: 根据问题中提到的\"gpt-4o-2024-05-13\"，这似乎是指一个特定版本的GPT模型。我需要确认这个版本是否存在，以及它是否是一个对话模型。如果它不是对话模型，我需要找出最近的对话模型版本是哪个。\n",
      "\n",
      "Action:\n",
      "```json\n",
      "{\n",
      "  \"action\": \"Search\",\n",
      "  \"action_input\": \"gpt-4o-2024-05-13\"\n",
      "}\n",
      "```\n",
      "\u001b[0m\n",
      "Observation: \u001b[36;1m\u001b[1;3m['gtp-4o-2024-05-13 vs gtp-4o Which one is better? The date is quite fresh… is this “The latest” version? Or dateless models are the way to go?', 'Hi, talking from personal experience, BetterGPT is the best way to use an OpenAI key with a nice interface. Hope that helps!', \"Our most advanced, multimodal flagship model that's cheaper and faster than GPT-4 Turbo. Currently points to gpt-4o-2024-05-13 . 128,000 tokens, Up to Oct 2023.\", \"OpenAI debuts GPT-4o 'omni' model now powering ChatGPT. Kyle Wiggers. 10:06 AM PDT • May 13, 2024. Comment. Image Credits: OpenAI. OpenAI announced a new ...\", 'GPT-4o (\"o\" for \"omni\") is OpenAI\\'s latest AI model, supporting both text and image inputs with text outputs. It maintains the intelligence ...', 'I encountered two problems when using gpt-4o-2024-05-13: 1.When I use 4o to organize the document content and output, when the document content is greater ...', 'If you are performing a programmatic deployment, the model name is gpt-4o , and the version is 2024-05-13 . GPT-4 Turbo. GPT-4 Turbo is a large multimodal model ...', '... gpt-4o\" or \"gpt-4o-2024-05-13\". My first impressions are that it feels notably faster than gpt-4-turbo . This announcement post also ...', 'Test how GPT-4o 2024-05-13 fares against other foundation models Compare in Playground. Overview. GPT-4o 2024-05-13. Provider.']\u001b[0m\n",
      "Thought:\u001b[32;1m\u001b[1;3mThe search results indicate that \"gpt-4o-2024-05-13\" is indeed a model from OpenAI, and it is described as the most advanced, multimodal flagship model that is cheaper and faster than GPT-4 Turbo. It is also mentioned that this model supports both text and image inputs with text outputs, which suggests that it is a conversational AI model. The date \"2024-05-13\" seems to refer to the version or release date of the model.\n",
      "\n",
      "Given this information, it appears that \"gpt-4o-2024-05-13\" is a conversational model and is the latest version mentioned in the search results.\n",
      "\n",
      "Thought: I now know the final answer.\n",
      "Final Answer: \"gpt-4o-2024-05-13\" is indeed a conversational AI model, and based on the information available, it is the latest conversational model from OpenAI as of the date mentioned.\u001b[0m\n",
      "\n",
      "\u001b[1m> Finished chain.\u001b[0m\n"
     ]
    },
    {
     "data": {
      "text/plain": [
       "'\"gpt-4o-2024-05-13\" is indeed a conversational AI model, and based on the information available, it is the latest conversational model from OpenAI as of the date mentioned.'"
      ]
     },
     "execution_count": 73,
     "metadata": {},
     "output_type": "execute_result"
    }
   ],
   "source": [
    "agent.run(\"gpt-4o-2024-05-13 是不是对话模型？如果不是哪个是最近的一次对话模型是哪个？\")"
   ]
  },
  {
   "cell_type": "code",
   "execution_count": 70,
   "id": "b7ccfcfd-3f94-40f4-ae40-fb4b68c41b76",
   "metadata": {},
   "outputs": [
    {
     "data": {
      "text/plain": [
       "'gpt-3.5-turbo-instruct'"
      ]
     },
     "execution_count": 70,
     "metadata": {},
     "output_type": "execute_result"
    }
   ],
   "source": [
    "llm.model_name"
   ]
  },
  {
   "cell_type": "code",
   "execution_count": 71,
   "id": "c2f6d55f-261c-481f-86f7-0bd1a275f27b",
   "metadata": {},
   "outputs": [],
   "source": [
    "llm = ChatOpenAI(model='gpt-4o-2024-05-13',temperature=0)"
   ]
  },
  {
   "cell_type": "code",
   "execution_count": 72,
   "id": "2d533405-8226-44af-8a15-8894fbdb3d33",
   "metadata": {},
   "outputs": [
    {
     "data": {
      "text/plain": [
       "'gpt-4o-2024-05-13'"
      ]
     },
     "execution_count": 72,
     "metadata": {},
     "output_type": "execute_result"
    }
   ],
   "source": [
    "llm.model_name"
   ]
  },
  {
   "cell_type": "code",
   "execution_count": 92,
   "id": "06e6319a-9f43-4486-94b4-c33c92162457",
   "metadata": {},
   "outputs": [],
   "source": [
    "from langchain.agents import tool"
   ]
  },
  {
   "cell_type": "code",
   "execution_count": 93,
   "id": "9105fc9e-13f3-4ada-879f-7375157c39d2",
   "metadata": {},
   "outputs": [],
   "source": [
    "@tool\n",
    "def get_word_length(word: str) -> int:\n",
    "    \"\"\"Returns the length of a word.\"\"\"\n",
    "    return len(word)"
   ]
  },
  {
   "cell_type": "code",
   "execution_count": 94,
   "id": "ec4d9069-c128-4e65-9b70-603b0b6ae2e2",
   "metadata": {},
   "outputs": [],
   "source": [
    "tools = [get_word_length]"
   ]
  },
  {
   "cell_type": "code",
   "execution_count": 87,
   "id": "79945268-734f-4662-9cde-c079e48dece7",
   "metadata": {},
   "outputs": [],
   "source": [
    "from langchain.schema import SystemMessage"
   ]
  },
  {
   "cell_type": "code",
   "execution_count": 88,
   "id": "188d4452-6d84-43e7-abb7-46551001da5c",
   "metadata": {},
   "outputs": [],
   "source": [
    "from langchain.agents import OpenAIFunctionsAgent"
   ]
  },
  {
   "cell_type": "code",
   "execution_count": 89,
   "id": "d65456cc-2dcb-4a02-94c6-b09361d0b631",
   "metadata": {},
   "outputs": [],
   "source": [
    "s_msg = SystemMessage(\"你是非常强大的AI助手，但在计算单词长度方面不擅长。\")"
   ]
  },
  {
   "cell_type": "code",
   "execution_count": 90,
   "id": "513e7466-99d5-48d9-a589-f8c4e6f3ac72",
   "metadata": {},
   "outputs": [],
   "source": [
    "prompt = OpenAIFunctionsAgent.create_prompt(system_message=s_msg)"
   ]
  },
  {
   "cell_type": "code",
   "execution_count": 96,
   "id": "b0ee4ac1-e86b-49d7-ac80-1e78cac3dd9c",
   "metadata": {},
   "outputs": [],
   "source": [
    "agent = OpenAIFunctionsAgent(llm=llm, tools=tools, prompt=prompt)"
   ]
  },
  {
   "cell_type": "code",
   "execution_count": 97,
   "id": "c397539d-e513-400b-8fba-1f93ec811295",
   "metadata": {},
   "outputs": [],
   "source": [
    "from langchain.agents import AgentExecutor"
   ]
  },
  {
   "cell_type": "code",
   "execution_count": 102,
   "id": "ee3748fe-e432-4e3a-9e96-69e73e7fc780",
   "metadata": {},
   "outputs": [],
   "source": [
    "a_exe = AgentExecutor(agent=agent, tools=tools, prompt=prompt, verbose=True)"
   ]
  },
  {
   "cell_type": "code",
   "execution_count": 103,
   "id": "1bd6cc49-9ebb-4055-a8d0-cd8b338e3326",
   "metadata": {},
   "outputs": [
    {
     "name": "stdout",
     "output_type": "stream",
     "text": [
      "\n",
      "\n",
      "\u001b[1m> Entering new AgentExecutor chain...\u001b[0m\n",
      "\u001b[32;1m\u001b[1;3m\n",
      "Invoking: `get_word_length` with `{'word': 'banana'}`\n",
      "\n",
      "\n",
      "\u001b[0m\u001b[36;1m\u001b[1;3m6\u001b[0m\u001b[32;1m\u001b[1;3m单词“banana”中有6个字母。\u001b[0m\n",
      "\n",
      "\u001b[1m> Finished chain.\u001b[0m\n"
     ]
    },
    {
     "data": {
      "text/plain": [
       "'单词“banana”中有6个字母。'"
      ]
     },
     "execution_count": 103,
     "metadata": {},
     "output_type": "execute_result"
    }
   ],
   "source": [
    "a_exe.run(\"单词“banana”中有多少个字母?\")\n"
   ]
  },
  {
   "cell_type": "code",
   "execution_count": 115,
   "id": "66135d16-ec89-4e60-9954-4aa317bba177",
   "metadata": {},
   "outputs": [],
   "source": [
    "from langchain.prompts import MessagesPlaceholder\n",
    "\n",
    "MEMORY_KEY = \"chat_history\"\n",
    "\n",
    "extra_m = MessagesPlaceholder(variable_name=MEMORY_KEY)"
   ]
  },
  {
   "cell_type": "code",
   "execution_count": 116,
   "id": "451c7d1b-cf84-4a17-ac30-dad332a6de4c",
   "metadata": {},
   "outputs": [],
   "source": [
    "prompt = OpenAIFunctionsAgent.create_prompt(\n",
    "    system_message=s_msg,\n",
    "    extra_prompt_messages=[extra_m]\n",
    ")"
   ]
  },
  {
   "cell_type": "code",
   "execution_count": 117,
   "id": "f802cc2f-48db-4f25-825f-c2b688d5caf2",
   "metadata": {},
   "outputs": [],
   "source": [
    "from langchain.memory import ConversationBufferMemory\n",
    "memory = ConversationBufferMemory(memory_key=MEMORY_KEY, return_messages=True)"
   ]
  },
  {
   "cell_type": "code",
   "execution_count": 118,
   "id": "ccd3d0ef-3ccd-43b9-a7ac-de0b1e07a857",
   "metadata": {},
   "outputs": [],
   "source": [
    "agent = OpenAIFunctionsAgent(llm=llm, tools=tools, prompt=prompt, verbose=True)"
   ]
  },
  {
   "cell_type": "code",
   "execution_count": 119,
   "id": "8175d937-f8c0-434c-8226-0ebc34811115",
   "metadata": {},
   "outputs": [],
   "source": [
    "agent_executor = AgentExecutor(agent=agent,tools=tools,memory=memory, verbose=True)"
   ]
  },
  {
   "cell_type": "code",
   "execution_count": 120,
   "id": "5dd1df50-2a1c-42d9-90b0-90acc32e4f2c",
   "metadata": {},
   "outputs": [
    {
     "name": "stdout",
     "output_type": "stream",
     "text": [
      "\n",
      "\n",
      "\u001b[1m> Entering new AgentExecutor chain...\u001b[0m\n",
      "\u001b[32;1m\u001b[1;3m\n",
      "Invoking: `get_word_length` with `{'word': 'educa'}`\n",
      "\n",
      "\n",
      "\u001b[0m\u001b[36;1m\u001b[1;3m5\u001b[0m\u001b[32;1m\u001b[1;3m单词“educa”中有5个字母。\u001b[0m\n",
      "\n",
      "\u001b[1m> Finished chain.\u001b[0m\n"
     ]
    },
    {
     "data": {
      "text/plain": [
       "'单词“educa”中有5个字母。'"
      ]
     },
     "execution_count": 120,
     "metadata": {},
     "output_type": "execute_result"
    }
   ],
   "source": [
    "agent_executor.run(\"单词“educa”中有多少个字母?\")"
   ]
  },
  {
   "cell_type": "code",
   "execution_count": 121,
   "id": "980fab30-0718-401e-879d-226e80710b66",
   "metadata": {},
   "outputs": [
    {
     "name": "stdout",
     "output_type": "stream",
     "text": [
      "\n",
      "\n",
      "\u001b[1m> Entering new AgentExecutor chain...\u001b[0m\n",
      "\u001b[32;1m\u001b[1;3m“educa”并不是一个常见的英语单词。可能是“education”或“educate”的一部分。如果你有其他问题或需要进一步的帮助，请告诉我。\u001b[0m\n",
      "\n",
      "\u001b[1m> Finished chain.\u001b[0m\n"
     ]
    },
    {
     "data": {
      "text/plain": [
       "'“educa”并不是一个常见的英语单词。可能是“education”或“educate”的一部分。如果你有其他问题或需要进一步的帮助，请告诉我。'"
      ]
     },
     "execution_count": 121,
     "metadata": {},
     "output_type": "execute_result"
    }
   ],
   "source": [
    "agent_executor.run(\"那是一个真实的单词吗？\")\n"
   ]
  },
  {
   "cell_type": "code",
   "execution_count": null,
   "id": "9016ff8e-8bb3-4da0-a45e-c4ae93a3a129",
   "metadata": {},
   "outputs": [],
   "source": []
  }
 ],
 "metadata": {
  "kernelspec": {
   "display_name": "Python 3 (ipykernel)",
   "language": "python",
   "name": "python3"
  },
  "language_info": {
   "codemirror_mode": {
    "name": "ipython",
    "version": 3
   },
   "file_extension": ".py",
   "mimetype": "text/x-python",
   "name": "python",
   "nbconvert_exporter": "python",
   "pygments_lexer": "ipython3",
   "version": "3.10.9"
  }
 },
 "nbformat": 4,
 "nbformat_minor": 5
}
