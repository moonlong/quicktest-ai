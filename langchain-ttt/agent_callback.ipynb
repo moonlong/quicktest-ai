{
 "cells": [
  {
   "cell_type": "code",
   "execution_count": 7,
   "id": "b560821e-25fb-4b89-9267-36b5266197af",
   "metadata": {},
   "outputs": [],
   "source": [
    "from langchain.agents import AgentExecutor\n",
    "from langchain_core.callbacks.manager import CallbackManager"
   ]
  },
  {
   "cell_type": "code",
   "execution_count": 9,
   "id": "a16de161-d23c-4ad6-8e01-5cbe54bf0087",
   "metadata": {},
   "outputs": [],
   "source": [
    "from langchain.callbacks import StdOutCallbackHandler\n"
   ]
  },
  {
   "cell_type": "code",
   "execution_count": 11,
   "id": "4b6a68c2-5f72-442b-893b-4d7305b0c562",
   "metadata": {},
   "outputs": [],
   "source": [
    "handler = StdOutCallbackHandler()"
   ]
  },
  {
   "cell_type": "code",
   "execution_count": 12,
   "id": "e2919565-5399-4557-8bfe-1ce35fc6a34c",
   "metadata": {},
   "outputs": [
    {
     "ename": "AttributeError",
     "evalue": "'CallbackManager' object has no attribute 'register'",
     "output_type": "error",
     "traceback": [
      "\u001b[0;31m---------------------------------------------------------------------------\u001b[0m",
      "\u001b[0;31mAttributeError\u001b[0m                            Traceback (most recent call last)",
      "Cell \u001b[0;32mIn[12], line 11\u001b[0m\n\u001b[1;32m      8\u001b[0m \u001b[38;5;66;03m# 创建一个回调管理器并注册回调函数\u001b[39;00m\n\u001b[1;32m     10\u001b[0m callback_manager \u001b[38;5;241m=\u001b[39m CallbackManager([handler])\n\u001b[0;32m---> 11\u001b[0m \u001b[43mcallback_manager\u001b[49m\u001b[38;5;241;43m.\u001b[39;49m\u001b[43mregister\u001b[49m(\u001b[38;5;124m\"\u001b[39m\u001b[38;5;124mon_start\u001b[39m\u001b[38;5;124m\"\u001b[39m, on_start)\n\u001b[1;32m     12\u001b[0m callback_manager\u001b[38;5;241m.\u001b[39mregister(\u001b[38;5;124m\"\u001b[39m\u001b[38;5;124mon_end\u001b[39m\u001b[38;5;124m\"\u001b[39m, on_end)\n\u001b[1;32m     14\u001b[0m \u001b[38;5;66;03m# 创建一个AgentExecutor实例\u001b[39;00m\n",
      "\u001b[0;31mAttributeError\u001b[0m: 'CallbackManager' object has no attribute 'register'"
     ]
    }
   ],
   "source": [
    "\n",
    "# 定义一些回调函数\n",
    "def on_start(step_name):\n",
    "    print(f\"Starting step: {step_name}\")\n",
    "\n",
    "def on_end(step_name, result):\n",
    "    print(f\"Finished step: {step_name} with result: {result}\")\n",
    "\n",
    "# 创建一个回调管理器并注册回调函数\n",
    "\n",
    "callback_manager = CallbackManager([handler])\n",
    "callback_manager.add_handler(\"on_start\", on_start)\n",
    "callback_manager.add_handler(\"on_end\", on_end)\n",
    "\n",
    "# 创建一个AgentExecutor实例\n",
    "agent_executor = AgentExecutor(callback_manager=callback_manager)\n",
    "\n",
    "# 定义一些链条步骤\n",
    "def step1():\n",
    "    callback_manager.call(\"on_start\", \"step1\")\n",
    "    result = \"result of step1\"\n",
    "    callback_manager.call(\"on_end\", \"step1\", result)\n",
    "    return result\n",
    "\n",
    "def step2(input):\n",
    "    callback_manager.call(\"on_start\", \"step2\")\n",
    "    result = f\"result of step2 with input {input}\"\n",
    "    callback_manager.call(\"on_end\", \"step2\", result)\n",
    "    return result\n",
    "\n",
    "# 执行链条\n",
    "result1 = step1()\n",
    "result2 = step2(result1)\n"
   ]
  },
  {
   "cell_type": "code",
   "execution_count": null,
   "id": "5ddba02d-73c1-47b4-903b-549bc6cdabc2",
   "metadata": {},
   "outputs": [],
   "source": []
  }
 ],
 "metadata": {
  "kernelspec": {
   "display_name": "Python 3 (ipykernel)",
   "language": "python",
   "name": "python3"
  },
  "language_info": {
   "codemirror_mode": {
    "name": "ipython",
    "version": 3
   },
   "file_extension": ".py",
   "mimetype": "text/x-python",
   "name": "python",
   "nbconvert_exporter": "python",
   "pygments_lexer": "ipython3",
   "version": "3.10.9"
  }
 },
 "nbformat": 4,
 "nbformat_minor": 5
}
