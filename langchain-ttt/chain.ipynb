{
 "cells": [
  {
   "cell_type": "code",
   "execution_count": 21,
   "id": "4c379024-78b5-4572-9c5c-77ad06c15371",
   "metadata": {},
   "outputs": [],
   "source": [
    "from langchain_community.llms import OpenAI\n",
    "from langchain.chains import LLMChain\n",
    "llm = OpenAI(temperature=0.7,max_tokens=1000)"
   ]
  },
  {
   "cell_type": "code",
   "execution_count": 22,
   "id": "e2e488af-6376-4915-a523-5bdf641f0589",
   "metadata": {},
   "outputs": [],
   "source": [
    "template = \"\"\"你是一位剧作家。根据戏剧的标题，你的任务是为该标题写一个简介。\n",
    "\n",
    "标题：{title}\n",
    "剧作家：以下是对上述戏剧的简介：\"\"\""
   ]
  },
  {
   "cell_type": "code",
   "execution_count": 23,
   "id": "5ff74beb-8cd1-4e93-b49b-a54870210642",
   "metadata": {},
   "outputs": [],
   "source": [
    "p = PromptTemplate(input_variables=[\"title\"],template=template)\n",
    "s_chain = LLMChain(llm=llm,prompt=p)"
   ]
  },
  {
   "cell_type": "code",
   "execution_count": 24,
   "id": "800fe206-0f17-4dcb-8019-4c679254779b",
   "metadata": {},
   "outputs": [],
   "source": [
    "template2 = \"\"\"你是《纽约时报》的戏剧评论家。根据剧情简介，你的工作是为该剧撰写一篇评论。\n",
    "\n",
    "剧情简介：\n",
    "{synopsis}\n",
    "\n",
    "以下是来自《纽约时报》戏剧评论家对上述剧目的评论：\"\"\""
   ]
  },
  {
   "cell_type": "code",
   "execution_count": 25,
   "id": "234b700f-4e48-414d-b7ca-91d84eac89d2",
   "metadata": {},
   "outputs": [],
   "source": [
    "p2 = PromptTemplate(input_variables=[\"synopsis\"],template=template2)\n",
    "r_chain = LLMChain(llm=llm,prompt=p2)"
   ]
  },
  {
   "cell_type": "code",
   "execution_count": 27,
   "id": "b05e8cd0-42df-4069-bbc2-4e4db218bf6a",
   "metadata": {},
   "outputs": [],
   "source": [
    "from langchain.chains import  SimpleSequentialChain\n",
    "overal_chain = SimpleSequentialChain(chains=[s_chain,r_chain],verbose=True)"
   ]
  },
  {
   "cell_type": "code",
   "execution_count": 28,
   "id": "4ef020c5-7ee5-4cf3-8efd-6ce2eb23ec03",
   "metadata": {},
   "outputs": [
    {
     "name": "stdout",
     "output_type": "stream",
     "text": [
      "\n",
      "\n",
      "\u001b[1m> Entering new SimpleSequentialChain chain...\u001b[0m\n",
      "\u001b[36;1m\u001b[1;3m\n",
      "\n",
      "《恋爱的犀牛》讲述了一段不平凡的爱情故事。男主角是一位粗鲁、脾气暴躁的犀牛，女主角则是一位温柔善良的小鸟。两人虽然性格迥异，却在一次意外的相遇后擦出了火花。他们一起经历了许多挑战和困难，但最终克服了一切，彼此相爱。然而，这段爱情并非一帆风顺，因为犀牛的天性使他经常发怒，让小鸟倍感压力和害怕。在两人的感情面临考验时，他们能否坚持爱下去？这段不寻常的恋情会有怎样的结局？敬请观看《恋爱的犀牛》，一起见证犀牛和小鸟之间的爱情究竟会走向何方。\u001b[0m\n",
      "\u001b[33;1m\u001b[1;3m\n",
      "\n",
      "\n",
      "《恋爱的犀牛》是一部充满温情和幽默的爱情故事。该剧通过讲述一对性格迥异的主人公之间的爱情，展现了爱情的力量和挑战。\n",
      "\n",
      "男主角犀牛的粗鲁和暴躁让观众在一开始就对他产生了不良印象，但随着剧情的展开，他的内心世界慢慢被揭开，让观众看到了一个渴望被爱的脆弱一面。女主角小鸟的温柔和善良则为剧中增添了许多温暖的色彩，她的坚强和勇敢也让观众为之动容。\n",
      "\n",
      "该剧的故事情节紧凑，通过一系列的挑战和困难，展现了两人在爱情道路上的奋斗和成长。尤其是犀牛的脾气和小鸟的害怕让两人的感情面临了巨大的考验，但最终他们都选择了坚持和包容，让观众深受感动。\n",
      "\n",
      "该剧的舞台布景和服装设计也非常精美，营造出了一个充满想象力的世界。演员们的精湛表演更是让观众沉浸在故事中，感受到了犀牛和小鸟之间的爱情的真挚和纯粹。\n",
      "\n",
      "总的来说，《恋爱的犀牛》是一部充满感动和希望的爱情故事，让观众在欢笑和泪水中体会到了爱情的力量。强烈推荐观看！\u001b[0m\n",
      "\n",
      "\u001b[1m> Finished chain.\u001b[0m\n"
     ]
    }
   ],
   "source": [
    "review= overal_chain.run(\"恋爱的犀牛\")"
   ]
  },
  {
   "cell_type": "code",
   "execution_count": 29,
   "id": "df2a564e-b54f-434e-aa45-3b22a1d8620d",
   "metadata": {},
   "outputs": [
    {
     "name": "stdout",
     "output_type": "stream",
     "text": [
      "\n",
      "\n",
      "\u001b[1m> Entering new SimpleSequentialChain chain...\u001b[0m\n",
      "\u001b[36;1m\u001b[1;3m\n",
      "\n",
      "《葱姜蒜》是一部悲喜交加的悬疑剧，讲述了一位年轻女子葱姜的命运。她生来就拥有一种特殊的能力，能够通过葱、姜、蒜来预测未来。然而，这种能力也带来了巨大的困扰和不幸。在她的面前出现了一个神秘的陌生人，声称能够解除她的能力。葱姜陷入了选择的困境，是否要放弃自己的能力，换取平静的生活？同时，她也发现了隐藏在自己身上的秘密，一切都似乎与她的命运有着千丝万缕的联系。在剧中，观众将跟随葱姜一起探索她的过去和未来，感受命运的无常和人性的复杂。最终，葱姜是否能够找到真正的幸福？一切的答案都将在《葱姜蒜》中揭晓。\u001b[0m\n",
      "\u001b[33;1m\u001b[1;3m\n",
      "\n",
      "\n",
      "《葱姜蒜》是一部令人心潮起伏的悬疑剧，充满着悲喜交加的情感。该剧讲述了一个拥有特殊能力的年轻女子葱姜的故事，她能够通过葱、姜、蒜来预测未来，却也因此陷入了巨大的困扰和不幸。这部剧的主题围绕着命运和人性，通过葱姜的经历，探讨了命运的无常和人性的复杂性。\n",
      "\n",
      "剧中的情节紧凑，引人入胜。随着葱姜的一步步发现自己身上的秘密和与命运的纠缠，观众也随之感受到了强烈的紧张和悬疑。每一个人物都有着自己的故事和动机，角色之间的关系也错综复杂，增加了剧情的层次和深度。同时，该剧也巧妙地将科幻元素融入到故事中，为整部剧增添了神秘感和想象力。\n",
      "\n",
      "演员们的表演也是这部剧的亮点。主演葱姜的演员通过细腻的表现，将角色的内心纠结和挣扎传达给观众，引发了观众的共鸣。配角们也都有着精彩的表现，为剧中的气氛和情感增添了色彩。\n",
      "\n",
      "总的来说，《葱姜蒜》是一部充满惊喜和感动的剧目。它不仅仅是一部悬疑剧，更是一部关于命运和人性的探讨。观众将被带入到葱姜的世界，与她一起探索命运的奥秘，感受人性的复杂性。剧终，观众也将被带回到现实，思考着自己的命运和生活。我强烈推荐这部剧，它会给观众带来一场精彩的观剧体验。\u001b[0m\n",
      "\n",
      "\u001b[1m> Finished chain.\u001b[0m\n"
     ]
    }
   ],
   "source": [
    "review= overal_chain.run(\"葱姜蒜\")"
   ]
  },
  {
   "cell_type": "markdown",
   "id": "35880cfa-9805-4051-916f-0344dcf45e8a",
   "metadata": {},
   "source": []
  }
 ],
 "metadata": {
  "kernelspec": {
   "display_name": "Python 3 (ipykernel)",
   "language": "python",
   "name": "python3"
  },
  "language_info": {
   "codemirror_mode": {
    "name": "ipython",
    "version": 3
   },
   "file_extension": ".py",
   "mimetype": "text/x-python",
   "name": "python",
   "nbconvert_exporter": "python",
   "pygments_lexer": "ipython3",
   "version": "3.10.9"
  }
 },
 "nbformat": 4,
 "nbformat_minor": 5
}
