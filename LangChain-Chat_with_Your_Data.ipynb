{
 "cells": [
  {
   "cell_type": "code",
   "execution_count": 1,
   "id": "c772e227-5574-4e44-a78e-9d262d374659",
   "metadata": {},
   "outputs": [],
   "source": [
    "import openai\n",
    "import os"
   ]
  },
  {
   "cell_type": "code",
   "execution_count": 1,
   "id": "09ddf8c2-7e3c-44be-9810-adc3753a3ff3",
   "metadata": {
    "scrolled": true
   },
   "outputs": [
    {
     "name": "stdout",
     "output_type": "stream",
     "text": [
      "Requirement already satisfied: langchain in /usr/local/lib/python3.10/site-packages (0.1.17)\n",
      "Collecting langchain\n",
      "  Downloading langchain-0.2.6-py3-none-any.whl.metadata (7.0 kB)\n",
      "Requirement already satisfied: PyYAML>=5.3 in /usr/local/lib/python3.10/site-packages (from langchain) (6.0.1)\n",
      "Requirement already satisfied: SQLAlchemy<3,>=1.4 in /usr/local/lib/python3.10/site-packages (from langchain) (2.0.29)\n",
      "Requirement already satisfied: aiohttp<4.0.0,>=3.8.3 in /usr/local/lib/python3.10/site-packages (from langchain) (3.9.5)\n",
      "Requirement already satisfied: async-timeout<5.0.0,>=4.0.0 in /usr/local/lib/python3.10/site-packages (from langchain) (4.0.3)\n",
      "Collecting langchain-core<0.3.0,>=0.2.10 (from langchain)\n",
      "  Downloading langchain_core-0.2.11-py3-none-any.whl.metadata (6.0 kB)\n",
      "Collecting langchain-text-splitters<0.3.0,>=0.2.0 (from langchain)\n",
      "  Downloading langchain_text_splitters-0.2.2-py3-none-any.whl.metadata (2.1 kB)\n",
      "Requirement already satisfied: langsmith<0.2.0,>=0.1.17 in /usr/local/lib/python3.10/site-packages (from langchain) (0.1.54)\n",
      "Requirement already satisfied: numpy<2,>=1 in /usr/local/lib/python3.10/site-packages (from langchain) (1.24.1)\n",
      "Requirement already satisfied: pydantic<3,>=1 in /usr/local/lib/python3.10/site-packages (from langchain) (2.7.1)\n",
      "Requirement already satisfied: requests<3,>=2 in /usr/local/lib/python3.10/site-packages (from langchain) (2.31.0)\n",
      "Requirement already satisfied: tenacity!=8.4.0,<9.0.0,>=8.1.0 in /usr/local/lib/python3.10/site-packages (from langchain) (8.2.3)\n",
      "Requirement already satisfied: aiosignal>=1.1.2 in /usr/local/lib/python3.10/site-packages (from aiohttp<4.0.0,>=3.8.3->langchain) (1.3.1)\n",
      "Requirement already satisfied: attrs>=17.3.0 in /usr/local/lib/python3.10/site-packages (from aiohttp<4.0.0,>=3.8.3->langchain) (23.2.0)\n",
      "Requirement already satisfied: frozenlist>=1.1.1 in /usr/local/lib/python3.10/site-packages (from aiohttp<4.0.0,>=3.8.3->langchain) (1.4.1)\n",
      "Requirement already satisfied: multidict<7.0,>=4.5 in /usr/local/lib/python3.10/site-packages (from aiohttp<4.0.0,>=3.8.3->langchain) (6.0.5)\n",
      "Requirement already satisfied: yarl<2.0,>=1.0 in /usr/local/lib/python3.10/site-packages (from aiohttp<4.0.0,>=3.8.3->langchain) (1.9.4)\n",
      "Requirement already satisfied: jsonpatch<2.0,>=1.33 in /usr/local/lib/python3.10/site-packages (from langchain-core<0.3.0,>=0.2.10->langchain) (1.33)\n",
      "Collecting langsmith<0.2.0,>=0.1.17 (from langchain)\n",
      "  Downloading langsmith-0.1.83-py3-none-any.whl.metadata (13 kB)\n",
      "Requirement already satisfied: packaging<25,>=23.2 in /usr/local/lib/python3.10/site-packages (from langchain-core<0.3.0,>=0.2.10->langchain) (23.2)\n",
      "Requirement already satisfied: orjson<4.0.0,>=3.9.14 in /usr/local/lib/python3.10/site-packages (from langsmith<0.2.0,>=0.1.17->langchain) (3.10.3)\n",
      "Requirement already satisfied: annotated-types>=0.4.0 in /usr/local/lib/python3.10/site-packages (from pydantic<3,>=1->langchain) (0.6.0)\n",
      "Requirement already satisfied: pydantic-core==2.18.2 in /usr/local/lib/python3.10/site-packages (from pydantic<3,>=1->langchain) (2.18.2)\n",
      "Requirement already satisfied: typing-extensions>=4.6.1 in /usr/local/lib/python3.10/site-packages (from pydantic<3,>=1->langchain) (4.11.0)\n",
      "Requirement already satisfied: charset-normalizer<4,>=2 in /usr/local/lib/python3.10/site-packages (from requests<3,>=2->langchain) (3.3.2)\n",
      "Requirement already satisfied: idna<4,>=2.5 in /usr/local/lib/python3.10/site-packages (from requests<3,>=2->langchain) (3.7)\n",
      "Requirement already satisfied: urllib3<3,>=1.21.1 in /usr/local/lib/python3.10/site-packages (from requests<3,>=2->langchain) (2.2.1)\n",
      "Requirement already satisfied: certifi>=2017.4.17 in /usr/local/lib/python3.10/site-packages (from requests<3,>=2->langchain) (2024.2.2)\n",
      "Requirement already satisfied: greenlet!=0.4.17 in /usr/local/lib/python3.10/site-packages (from SQLAlchemy<3,>=1.4->langchain) (3.0.3)\n",
      "Requirement already satisfied: jsonpointer>=1.9 in /usr/local/lib/python3.10/site-packages (from jsonpatch<2.0,>=1.33->langchain-core<0.3.0,>=0.2.10->langchain) (2.4)\n",
      "Downloading langchain-0.2.6-py3-none-any.whl (975 kB)\n",
      "\u001b[2K   \u001b[90m━━━━━━━━━━━━━━━━━━━━━━━━━━━━━━━━━━━━━━━━\u001b[0m \u001b[32m975.5/975.5 kB\u001b[0m \u001b[31m1.9 MB/s\u001b[0m eta \u001b[36m0:00:00\u001b[0m00:01\u001b[0m00:01\u001b[0m\n",
      "\u001b[?25hDownloading langchain_core-0.2.11-py3-none-any.whl (337 kB)\n",
      "\u001b[2K   \u001b[90m━━━━━━━━━━━━━━━━━━━━━━━━━━━━━━━━━━━━━━━━\u001b[0m \u001b[32m337.4/337.4 kB\u001b[0m \u001b[31m2.3 MB/s\u001b[0m eta \u001b[36m0:00:00\u001b[0ma \u001b[36m0:00:01\u001b[0m\n",
      "\u001b[?25hDownloading langchain_text_splitters-0.2.2-py3-none-any.whl (25 kB)\n",
      "Downloading langsmith-0.1.83-py3-none-any.whl (127 kB)\n",
      "\u001b[2K   \u001b[90m━━━━━━━━━━━━━━━━━━━━━━━━━━━━━━━━━━━━━━━━\u001b[0m \u001b[32m127.5/127.5 kB\u001b[0m \u001b[31m1.7 MB/s\u001b[0m eta \u001b[36m0:00:00\u001b[0m \u001b[36m0:00:01\u001b[0m\n",
      "\u001b[?25hInstalling collected packages: langsmith, langchain-core, langchain-text-splitters, langchain\n",
      "  Attempting uninstall: langsmith\n",
      "    Found existing installation: langsmith 0.1.54\n",
      "    Uninstalling langsmith-0.1.54:\n",
      "      Successfully uninstalled langsmith-0.1.54\n",
      "  Attempting uninstall: langchain-core\n",
      "    Found existing installation: langchain-core 0.1.50\n",
      "    Uninstalling langchain-core-0.1.50:\n",
      "      Successfully uninstalled langchain-core-0.1.50\n",
      "  Attempting uninstall: langchain-text-splitters\n",
      "    Found existing installation: langchain-text-splitters 0.0.1\n",
      "    Uninstalling langchain-text-splitters-0.0.1:\n",
      "      Successfully uninstalled langchain-text-splitters-0.0.1\n",
      "  Attempting uninstall: langchain\n",
      "    Found existing installation: langchain 0.1.17\n",
      "    Uninstalling langchain-0.1.17:\n",
      "      Successfully uninstalled langchain-0.1.17\n",
      "\u001b[31mERROR: pip's dependency resolver does not currently take into account all the packages that are installed. This behaviour is the source of the following dependency conflicts.\n",
      "langchain-community 0.0.36 requires langchain-core<0.2.0,>=0.1.48, but you have langchain-core 0.2.11 which is incompatible.\u001b[0m\u001b[31m\n",
      "\u001b[0mSuccessfully installed langchain-0.2.6 langchain-core-0.2.11 langchain-text-splitters-0.2.2 langsmith-0.1.83\n",
      "\n",
      "\u001b[1m[\u001b[0m\u001b[34;49mnotice\u001b[0m\u001b[1;39;49m]\u001b[0m\u001b[39;49m A new release of pip is available: \u001b[0m\u001b[31;49m24.0\u001b[0m\u001b[39;49m -> \u001b[0m\u001b[32;49m24.1.1\u001b[0m\n",
      "\u001b[1m[\u001b[0m\u001b[34;49mnotice\u001b[0m\u001b[1;39;49m]\u001b[0m\u001b[39;49m To update, run: \u001b[0m\u001b[32;49mpython3.10 -m pip install --upgrade pip\u001b[0m\n"
     ]
    }
   ],
   "source": [
    "!pip install --upgrade langchain"
   ]
  },
  {
   "cell_type": "code",
   "execution_count": 2,
   "id": "9a38c8a2-5cf8-437e-a0f9-58b6904462b6",
   "metadata": {},
   "outputs": [],
   "source": [
    "from langchain.document_loaders import PyPDFLoader"
   ]
  },
  {
   "cell_type": "code",
   "execution_count": 3,
   "id": "91af7bdf-4e2a-460d-a4fc-f44a68f5b92e",
   "metadata": {},
   "outputs": [
    {
     "data": {
      "text/plain": [
       "['__abstractmethods__',\n",
       " '__class__',\n",
       " '__del__',\n",
       " '__delattr__',\n",
       " '__dict__',\n",
       " '__dir__',\n",
       " '__doc__',\n",
       " '__eq__',\n",
       " '__format__',\n",
       " '__ge__',\n",
       " '__getattribute__',\n",
       " '__gt__',\n",
       " '__hash__',\n",
       " '__init__',\n",
       " '__init_subclass__',\n",
       " '__le__',\n",
       " '__lt__',\n",
       " '__module__',\n",
       " '__ne__',\n",
       " '__new__',\n",
       " '__reduce__',\n",
       " '__reduce_ex__',\n",
       " '__repr__',\n",
       " '__setattr__',\n",
       " '__sizeof__',\n",
       " '__slots__',\n",
       " '__str__',\n",
       " '__subclasshook__',\n",
       " '__weakref__',\n",
       " '_abc_impl',\n",
       " '_is_s3_presigned_url',\n",
       " '_is_s3_url',\n",
       " '_is_valid_url',\n",
       " 'alazy_load',\n",
       " 'aload',\n",
       " 'lazy_load',\n",
       " 'load',\n",
       " 'load_and_split',\n",
       " 'source']"
      ]
     },
     "execution_count": 3,
     "metadata": {},
     "output_type": "execute_result"
    }
   ],
   "source": [
    "dir(PyPDFLoader)"
   ]
  },
  {
   "cell_type": "code",
   "execution_count": 4,
   "id": "95deb6a6-39bc-4714-9c48-8232c681dc7a",
   "metadata": {},
   "outputs": [
    {
     "name": "stdout",
     "output_type": "stream",
     "text": [
      "Help on class PyPDFLoader in module langchain_community.document_loaders.pdf:\n",
      "\n",
      "class PyPDFLoader(BasePDFLoader)\n",
      " |  PyPDFLoader(file_path: str, password: Union[str, bytes, NoneType] = None, headers: Optional[Dict] = None, extract_images: bool = False) -> None\n",
      " |  \n",
      " |  Load PDF using pypdf into list of documents.\n",
      " |  \n",
      " |  Loader chunks by page and stores page numbers in metadata.\n",
      " |  \n",
      " |  Method resolution order:\n",
      " |      PyPDFLoader\n",
      " |      BasePDFLoader\n",
      " |      langchain_core.document_loaders.base.BaseLoader\n",
      " |      abc.ABC\n",
      " |      builtins.object\n",
      " |  \n",
      " |  Methods defined here:\n",
      " |  \n",
      " |  __init__(self, file_path: str, password: Union[str, bytes, NoneType] = None, headers: Optional[Dict] = None, extract_images: bool = False) -> None\n",
      " |      Initialize with a file path.\n",
      " |  \n",
      " |  lazy_load(self) -> Iterator[langchain_core.documents.base.Document]\n",
      " |      Lazy load given path as pages.\n",
      " |  \n",
      " |  ----------------------------------------------------------------------\n",
      " |  Data and other attributes defined here:\n",
      " |  \n",
      " |  __abstractmethods__ = frozenset()\n",
      " |  \n",
      " |  ----------------------------------------------------------------------\n",
      " |  Methods inherited from BasePDFLoader:\n",
      " |  \n",
      " |  __del__(self) -> None\n",
      " |  \n",
      " |  ----------------------------------------------------------------------\n",
      " |  Readonly properties inherited from BasePDFLoader:\n",
      " |  \n",
      " |  source\n",
      " |  \n",
      " |  ----------------------------------------------------------------------\n",
      " |  Methods inherited from langchain_core.document_loaders.base.BaseLoader:\n",
      " |  \n",
      " |  async alazy_load(self) -> 'AsyncIterator[Document]'\n",
      " |      A lazy loader for Documents.\n",
      " |  \n",
      " |  async aload(self) -> 'List[Document]'\n",
      " |      Load data into Document objects.\n",
      " |  \n",
      " |  load(self) -> 'List[Document]'\n",
      " |      Load data into Document objects.\n",
      " |  \n",
      " |  load_and_split(self, text_splitter: 'Optional[TextSplitter]' = None) -> 'List[Document]'\n",
      " |      Load Documents and split into chunks. Chunks are returned as Documents.\n",
      " |      \n",
      " |      Do not override this method. It should be considered to be deprecated!\n",
      " |      \n",
      " |      Args:\n",
      " |          text_splitter: TextSplitter instance to use for splitting documents.\n",
      " |            Defaults to RecursiveCharacterTextSplitter.\n",
      " |      \n",
      " |      Returns:\n",
      " |          List of Documents.\n",
      " |  \n",
      " |  ----------------------------------------------------------------------\n",
      " |  Data descriptors inherited from langchain_core.document_loaders.base.BaseLoader:\n",
      " |  \n",
      " |  __dict__\n",
      " |      dictionary for instance variables (if defined)\n",
      " |  \n",
      " |  __weakref__\n",
      " |      list of weak references to the object (if defined)\n",
      "\n"
     ]
    }
   ],
   "source": [
    "help(PyPDFLoader)"
   ]
  },
  {
   "cell_type": "code",
   "execution_count": 8,
   "id": "891fb854-fd60-482e-bfaf-024d1f4ee713",
   "metadata": {},
   "outputs": [],
   "source": [
    "from langchain.document_loaders import TextLoader,PyPDFLoader"
   ]
  },
  {
   "cell_type": "code",
   "execution_count": 12,
   "id": "355dee0c-b7e2-4175-bf2f-9ecda0f6140b",
   "metadata": {},
   "outputs": [
    {
     "name": "stdout",
     "output_type": "stream",
     "text": [
      "116\n"
     ]
    }
   ],
   "source": [
    "loader = PyPDFLoader(\"data/effective-go-zh-en-gitbook.pdf\")\n",
    "pages = loader.load()\n",
    "print(len(pages))"
   ]
  },
  {
   "cell_type": "code",
   "execution_count": 22,
   "id": "1c1002af-07f9-4538-aa59-21f3620de2cc",
   "metadata": {},
   "outputs": [
    {
     "name": "stdout",
     "output_type": "stream",
     "text": [
      "{'source': 'data/effective-go-zh-en-gitbook.pdf', 'page': 0}\n"
     ]
    }
   ],
   "source": [
    "print(pages[0].metadata)"
   ]
  },
  {
   "cell_type": "code",
   "execution_count": 23,
   "id": "04368ae8-3f1b-4c93-82b0-3e9b16c2f16f",
   "metadata": {},
   "outputs": [
    {
     "name": "stdout",
     "output_type": "stream",
     "text": [
      "1.1\n",
      "1.2\n",
      "1.3\n",
      "1.4\n",
      "1.5\n",
      "1.6\n",
      "1.7\n",
      "1.8\n",
      "1.9\n",
      "1.10\n",
      "1.11\n",
      "1.12\n",
      "1.13\n",
      "1.14\n",
      "1.15\n",
      "1.16\n",
      "1.17\n",
      "Table\tof\tContents\n",
      "前言\n",
      "引言\n",
      "格式化\n",
      "注释\n",
      "命名\n",
      "分号\n",
      "控制结构\n",
      "函数\n",
      "数据\n",
      "初始化\n",
      "方法\n",
      "接口和其他类型\n",
      "空白标识符\n",
      "内嵌\n",
      "并发\n",
      "错误\n",
      "一个\n",
      "Web\n",
      "服务器\n",
      "2\n"
     ]
    }
   ],
   "source": [
    "print(pages[1].page_content[0:500])"
   ]
  },
  {
   "cell_type": "code",
   "execution_count": 24,
   "id": "97c518e0-156c-4cad-b095-86e91eed6d3e",
   "metadata": {},
   "outputs": [],
   "source": [
    "from langchain.text_splitter import RecursiveCharacterTextSplitter,CharacterTextSplitter"
   ]
  },
  {
   "cell_type": "code",
   "execution_count": 25,
   "id": "ab6e03fc-622a-434f-9cd4-edb3a7eba0fa",
   "metadata": {},
   "outputs": [],
   "source": [
    "chunk_size=32\n",
    "chunk_overlap = 4"
   ]
  },
  {
   "cell_type": "code",
   "execution_count": 33,
   "id": "81ca9f00-a4eb-4bf0-b8ee-5e432d8be083",
   "metadata": {},
   "outputs": [],
   "source": [
    "r_splitter = RecursiveCharacterTextSplitter(\n",
    "    chunk_size = chunk_size,\n",
    "    chunk_overlap = chunk_overlap\n",
    ")\n",
    "c_splitter = CharacterTextSplitter(\n",
    "    chunk_size=chunk_size,\n",
    "    chunk_overlap=chunk_overlap\n",
    ")"
   ]
  },
  {
   "cell_type": "code",
   "execution_count": 28,
   "id": "42cf3cb0-d8b4-4e71-bcd6-3165cd1b9075",
   "metadata": {},
   "outputs": [],
   "source": [
    "text1 = 'abcdefghijklmnopqrstuvwxyz'"
   ]
  },
  {
   "cell_type": "code",
   "execution_count": 29,
   "id": "69db436d-e480-486e-9cf7-b13cd00e3535",
   "metadata": {},
   "outputs": [
    {
     "data": {
      "text/plain": [
       "['abcdefghijklmnopqrstuvwxyz']"
      ]
     },
     "execution_count": 29,
     "metadata": {},
     "output_type": "execute_result"
    }
   ],
   "source": [
    "r_splitter.split_text(text1)"
   ]
  },
  {
   "cell_type": "code",
   "execution_count": 30,
   "id": "f55949b5-6c0f-4381-8ff9-1973a300a182",
   "metadata": {},
   "outputs": [],
   "source": [
    "text2 = 'abcdefghijklmnopqrstuvwxyzabcdefg'"
   ]
  },
  {
   "cell_type": "code",
   "execution_count": 32,
   "id": "5a5db9de-917b-4cb9-9301-18acd6bd551d",
   "metadata": {},
   "outputs": [
    {
     "data": {
      "text/plain": [
       "['abcdefghijklmnopqrstuvwxyzabcdef', 'cdefg']"
      ]
     },
     "execution_count": 32,
     "metadata": {},
     "output_type": "execute_result"
    }
   ],
   "source": [
    "r_splitter.split_text(text2)"
   ]
  },
  {
   "cell_type": "code",
   "execution_count": 34,
   "id": "ffa551f7-a724-4a7f-9f4d-cb8663e3fa2f",
   "metadata": {},
   "outputs": [],
   "source": [
    "text3 = \"a b c d e f g h i j k l m n o p q r s t u v w x y z\""
   ]
  },
  {
   "cell_type": "code",
   "execution_count": 35,
   "id": "6cc0fc2d-2189-4bc7-b3de-671efa7bb259",
   "metadata": {},
   "outputs": [
    {
     "data": {
      "text/plain": [
       "['a b c d e f g h i j k l m n o p q r s t u v w x y z']"
      ]
     },
     "execution_count": 35,
     "metadata": {},
     "output_type": "execute_result"
    }
   ],
   "source": [
    "c_splitter.split_text(text3)"
   ]
  },
  {
   "cell_type": "code",
   "execution_count": 36,
   "id": "bf1409c7-54ce-4270-a052-8dd052d06451",
   "metadata": {},
   "outputs": [],
   "source": [
    "some_text = \"\"\"When writing documents, writers will use document structure to group content. \\\n",
    "This can convey to the reader, which idea's are related. For example, closely related ideas \\\n",
    "are in sentances. Similar ideas are in paragraphs. Paragraphs form a document. \\n\\n  \\\n",
    "Paragraphs are often delimited with a carriage return or two carriage returns. \\\n",
    "Carriage returns are the \"backslash n\" you see embedded in this string. \\\n",
    "Sentences have a period at the end, but also, have a space.\\\n",
    "and words are separated by space.\"\"\""
   ]
  },
  {
   "cell_type": "code",
   "execution_count": 37,
   "id": "10d9d0b6-99ff-41cd-9bee-a8e922a4f660",
   "metadata": {},
   "outputs": [
    {
     "data": {
      "text/plain": [
       "496"
      ]
     },
     "execution_count": 37,
     "metadata": {},
     "output_type": "execute_result"
    }
   ],
   "source": [
    "len(some_text)"
   ]
  },
  {
   "cell_type": "code",
   "execution_count": 38,
   "id": "df377a80-d654-4d8d-a064-4b6204cc6a63",
   "metadata": {},
   "outputs": [],
   "source": [
    "c_splitter = CharacterTextSplitter(\n",
    "    chunk_size=450,\n",
    "    chunk_overlap=0,\n",
    "    separator = ' '\n",
    ")\n",
    "r_splitter = RecursiveCharacterTextSplitter(\n",
    "    chunk_size=450,\n",
    "    chunk_overlap=0, \n",
    "    separators=[\"\\n\\n\", \"\\n\", \" \", \"\"]\n",
    ")"
   ]
  },
  {
   "cell_type": "code",
   "execution_count": 39,
   "id": "c78b096b-3ae9-4fde-9001-1ad827ae8c91",
   "metadata": {},
   "outputs": [
    {
     "data": {
      "text/plain": [
       "['When writing documents, writers will use document structure to group content. This can convey to the reader, which idea\\'s are related. For example, closely related ideas are in sentances. Similar ideas are in paragraphs. Paragraphs form a document. \\n\\n Paragraphs are often delimited with a carriage return or two carriage returns. Carriage returns are the \"backslash n\" you see embedded in this string. Sentences have a period at the end, but also,',\n",
       " 'have a space.and words are separated by space.']"
      ]
     },
     "execution_count": 39,
     "metadata": {},
     "output_type": "execute_result"
    }
   ],
   "source": [
    "c_splitter.split_text(some_text)"
   ]
  },
  {
   "cell_type": "code",
   "execution_count": 40,
   "id": "fe222ead-5b38-4d48-8f72-1da361c8d9d4",
   "metadata": {},
   "outputs": [
    {
     "data": {
      "text/plain": [
       "[\"When writing documents, writers will use document structure to group content. This can convey to the reader, which idea's are related. For example, closely related ideas are in sentances. Similar ideas are in paragraphs. Paragraphs form a document.\",\n",
       " 'Paragraphs are often delimited with a carriage return or two carriage returns. Carriage returns are the \"backslash n\" you see embedded in this string. Sentences have a period at the end, but also, have a space.and words are separated by space.']"
      ]
     },
     "execution_count": 40,
     "metadata": {},
     "output_type": "execute_result"
    }
   ],
   "source": [
    "r_splitter.split_text(some_text)"
   ]
  },
  {
   "cell_type": "code",
   "execution_count": 52,
   "id": "872e67d2-152c-4bee-a40c-0c47d96f5b09",
   "metadata": {},
   "outputs": [],
   "source": [
    "from openai import OpenAI\n",
    "client = OpenAI()"
   ]
  },
  {
   "cell_type": "code",
   "execution_count": 56,
   "id": "2fbeae87-dc49-42cc-abd2-c74261ee33c9",
   "metadata": {},
   "outputs": [],
   "source": [
    "from langchain.embeddings.openai import OpenAIEmbeddings\n",
    "embedding = OpenAIEmbeddings( \n",
    "    model = 'text-embedding-ada-002'\n",
    ")"
   ]
  },
  {
   "cell_type": "code",
   "execution_count": 57,
   "id": "633ab42d-1d4f-42cc-9cfc-e8d35c6fffe7",
   "metadata": {},
   "outputs": [],
   "source": [
    "sentence1 = \"i like dogs\"\n",
    "sentence2 = \"i like canines\"\n",
    "sentence3 = \"the weather is ugly outside\""
   ]
  },
  {
   "cell_type": "code",
   "execution_count": 59,
   "id": "93565e76-3458-4320-a7a7-6862f093545c",
   "metadata": {},
   "outputs": [],
   "source": [
    "embedding1 = embedding.embed_query(sentence1)\n",
    "embedding2 = embedding.embed_query(sentence2)\n",
    "embedding3 = embedding.embed_query(sentence3)"
   ]
  },
  {
   "cell_type": "code",
   "execution_count": 61,
   "id": "13323406-eee5-4d29-bade-bdacc78fea87",
   "metadata": {},
   "outputs": [],
   "source": [
    "import numpy as np"
   ]
  },
  {
   "cell_type": "code",
   "execution_count": 62,
   "id": "5c52ed19-61e2-417d-ad76-2fddcfdbccba",
   "metadata": {},
   "outputs": [
    {
     "data": {
      "text/plain": [
       "0.9631227500523626"
      ]
     },
     "execution_count": 62,
     "metadata": {},
     "output_type": "execute_result"
    }
   ],
   "source": [
    "np.dot(embedding1,embedding2)"
   ]
  },
  {
   "cell_type": "code",
   "execution_count": 63,
   "id": "844cddcd-1ce7-449f-a29d-418b8a57e0e4",
   "metadata": {},
   "outputs": [
    {
     "data": {
      "text/plain": [
       "0.7703257495981698"
      ]
     },
     "execution_count": 63,
     "metadata": {},
     "output_type": "execute_result"
    }
   ],
   "source": [
    "np.dot(embedding1,embedding3)"
   ]
  },
  {
   "cell_type": "code",
   "execution_count": 64,
   "id": "f64cf15d-5175-4bf5-bb1a-3f912614944b",
   "metadata": {},
   "outputs": [
    {
     "data": {
      "text/plain": [
       "0.759162740110803"
      ]
     },
     "execution_count": 64,
     "metadata": {},
     "output_type": "execute_result"
    }
   ],
   "source": [
    "np.dot(embedding2,embedding3)"
   ]
  },
  {
   "cell_type": "code",
   "execution_count": 120,
   "id": "2cde982d-bcf3-46e6-8dd7-b1315b3f4008",
   "metadata": {},
   "outputs": [],
   "source": [
    "from langchain.text_splitter import RecursiveCharacterTextSplitter\n",
    "text_splitter = RecursiveCharacterTextSplitter(\n",
    "    chunk_size=1500,\n",
    "    chunk_overlap=150\n",
    ")"
   ]
  },
  {
   "cell_type": "code",
   "execution_count": 121,
   "id": "28104515-e2a4-484e-872e-a83de2e168f6",
   "metadata": {},
   "outputs": [
    {
     "name": "stdout",
     "output_type": "stream",
     "text": [
      "25\n"
     ]
    }
   ],
   "source": [
    "loader = PyPDFLoader(\"data/effective-go-zh-en-gitbook.pdf\")\n",
    "pages = loader.load()\n",
    "pages = pages[5:30]\n",
    "print(len(pages))"
   ]
  },
  {
   "cell_type": "code",
   "execution_count": 128,
   "id": "b717f1bc-9d28-4ab1-94a9-42bbf81e7eba",
   "metadata": {},
   "outputs": [],
   "source": [
    "\n",
    "import regex\n",
    "# 正则表达式，匹配并丢弃不可见字符、代理项等\n",
    "# \\ud800 代理项的开始，\\p{C} 任何其他控制字符\n",
    "regex_pattern = r'[\\uFFFD\\ud800-\\udfff\\p{C}]+'\n",
    "\n",
    "for page in pages:\n",
    "    page.page_content = regex.sub(regex_pattern, '', page.page_content)\n"
   ]
  },
  {
   "cell_type": "code",
   "execution_count": 129,
   "id": "6fe72fcc-1173-436f-aeed-25fc5321099b",
   "metadata": {},
   "outputs": [],
   "source": [
    "splits = text_splitter.split_documents(pages)"
   ]
  },
  {
   "cell_type": "code",
   "execution_count": 130,
   "id": "d3251b83-12a6-456d-afdd-400d3616e5b5",
   "metadata": {},
   "outputs": [],
   "source": [
    "from langchain.vectorstores import Chroma"
   ]
  },
  {
   "cell_type": "code",
   "execution_count": 131,
   "id": "6171c258-f314-4207-9ba5-2b986f8898cd",
   "metadata": {},
   "outputs": [],
   "source": [
    "persist_directory = 'docs/chroma02/'"
   ]
  },
  {
   "cell_type": "code",
   "execution_count": 132,
   "id": "5ddda329-a3fb-4f83-9899-1a444327ad7e",
   "metadata": {},
   "outputs": [
    {
     "name": "stdout",
     "output_type": "stream",
     "text": [
      "25\n"
     ]
    }
   ],
   "source": [
    "print(len(pages))"
   ]
  },
  {
   "cell_type": "code",
   "execution_count": 133,
   "id": "926f45e2-496f-49aa-b42a-e7b263ce8cb8",
   "metadata": {},
   "outputs": [],
   "source": [
    "vectordb = Chroma.from_documents(\n",
    "    documents=splits,\n",
    "    embedding=embedding,\n",
    "    persist_directory=persist_directory\n",
    ")"
   ]
  },
  {
   "cell_type": "code",
   "execution_count": 134,
   "id": "a4e3d31d-7132-4795-877e-ae2b520d792c",
   "metadata": {},
   "outputs": [
    {
     "name": "stdout",
     "output_type": "stream",
     "text": [
      "58\n"
     ]
    }
   ],
   "source": [
    "print(vectordb._collection.count())"
   ]
  },
  {
   "cell_type": "code",
   "execution_count": 135,
   "id": "6711acc6-c576-4519-afd5-14b79a638bc7",
   "metadata": {},
   "outputs": [],
   "source": [
    "question = \"is there any tips\""
   ]
  },
  {
   "cell_type": "code",
   "execution_count": 136,
   "id": "0c11f969-9daa-4dd7-998d-0e4e217ce6d4",
   "metadata": {},
   "outputs": [
    {
     "data": {
      "text/plain": [
       "3"
      ]
     },
     "execution_count": 136,
     "metadata": {},
     "output_type": "execute_result"
    }
   ],
   "source": [
    "docs = vectordb.similarity_search(question,k=3)\n",
    "len(docs)"
   ]
  },
  {
   "cell_type": "code",
   "execution_count": 137,
   "id": "0ade0784-0c27-45bd-85cd-98069fd4a2bc",
   "metadata": {},
   "outputs": [
    {
     "data": {
      "text/plain": [
       "'e(ifnecessary,clickontheword\"Example\"toopenitup).Ifyouhaveaquestionabouthowtoapproachaproblemorhowsomethingmightbeimplemented,thedocumentation,codeandexamplesinthelibrarycanprovideanswers,ideasandbackground.引言6'"
      ]
     },
     "execution_count": 137,
     "metadata": {},
     "output_type": "execute_result"
    }
   ],
   "source": [
    "docs[0].page_content"
   ]
  },
  {
   "cell_type": "code",
   "execution_count": 138,
   "id": "3f899e7d-38bb-417d-ab86-ec9c88197bc7",
   "metadata": {},
   "outputs": [],
   "source": [
    "vectordb.persist()"
   ]
  },
  {
   "cell_type": "code",
   "execution_count": 139,
   "id": "92bfc952-2a80-4d24-a03d-18778c82e704",
   "metadata": {},
   "outputs": [
    {
     "data": {
      "text/plain": [
       "\"Formatting格式化Formattingissuesarethemostcontentiousbuttheleastconsequential.Peoplecanadapttodifferentformattingstylesbutit'sbetteriftheydon'thaveto,andlesstimeisdevotedtothetopicifeveryoneadherestothesamestyle.TheproblemishowtoapproachthisUtopiawithoutalongprescriptivestyleguide.格式化问题总是充满了争议，但却始终没有形成统一的定论。虽说人们可以适应不同的编码风格，但抛弃这种适应过程岂不更好？若所有人都遵循相同的编码风格，在这类问题上浪费的时间将会更少。问题就在于如何实现这种设想，而无需冗长的语言风格规范。WithGowetakeanunusualapproachandletthemachinetakecareofmostformattingissues.Thegofmtprogram(alsoavailableasgofmt,whichoperatesatthepackagelevelratherthansourcefilelevel)readsaGoprogramandemitsthesourceinastandardstyleofindentationandverticalalignment,retainingandifnecessaryreformattingcomments.Ifyouwanttoknowhowtohandlesomenewlayoutsituation,rungofmt;iftheanswerdoesn'tseemright,rearrangeyourprogram(orfileabugaboutgofmt),don'tworkaroundit.在Go中我们另辟蹊径，让机器来处理大部分的格式化问题。gofmt程序（也可用gofmt，它以包为处理对象而非源文件）将Go程序按照标准风格缩进、对齐，保留注释并在需要时重新格式化。若你想知道如何处理一些新的代码布局，请尝试运行gofmt；若结果仍不尽人意，请重新组织你的程序（或提交有关gofmt的Bug），而不必为此纠结。Asanexample,there'snoneedtospendtimeliningupthecommentsonthefieldsofastructure.Gofmtwilldothatforyou.Giventhedeclaration举例来说，你无需花时间将结构体中的字段注释对齐，gofmt将为你代劳。假如有以下声明：typeTstruct{namestring//nameoftheobjectvalueint//itsvalue}typeTstruct{namestring//对象名valueint//对象值}格式化8\""
      ]
     },
     "execution_count": 139,
     "metadata": {},
     "output_type": "execute_result"
    }
   ],
   "source": [
    "docs[1].page_content"
   ]
  },
  {
   "cell_type": "code",
   "execution_count": 113,
   "id": "0fe3c587-2ef1-43e0-bb6d-e302a28bc265",
   "metadata": {},
   "outputs": [
    {
     "data": {
      "text/plain": [
       "'Go\\t\\n包的源码\\n\\t\\n不仅是核心库，同时也是学习如何使用\\n\\tGo\\t\\n语言的示例源码。\\n\\t\\n此外，其中的一\\n些包还包含了可工作的，独立的可执行示例，你可以直接在\\n\\t\\ngolang.org\\n\\t\\n网站上运行它们，比\\n如\\n\\t\\n这个例子\\n\\t\\n（单击文字\\n\\t“\\n示例\\n”\\t\\n来展开它）。如果你有任何关于某些问题如何解决，或某些东\\n西如何实现的疑问，\\n\\t\\n也可以从中获取相关的答案、思路以及后台实现。\\n引言\\n7'"
      ]
     },
     "execution_count": 113,
     "metadata": {},
     "output_type": "execute_result"
    }
   ],
   "source": [
    "docs[2].page_content"
   ]
  },
  {
   "cell_type": "code",
   "execution_count": 114,
   "id": "4a1d9808-e420-4974-b688-6a6527f38cd1",
   "metadata": {},
   "outputs": [],
   "source": [
    "texts = [\n",
    "    \"\"\"The Amanita phalloides has a large and imposing epigeous (aboveground) fruiting body (basidiocarp).\"\"\",\n",
    "    \"\"\"A mushroom with a large fruiting body is the Amanita phalloides. Some varieties are all-white.\"\"\",\n",
    "    \"\"\"A. phalloides, a.k.a Death Cap, is one of the most poisonous of all known mushrooms.\"\"\",\n",
    "]"
   ]
  },
  {
   "cell_type": "code",
   "execution_count": 115,
   "id": "958ceab8-a254-4881-b8f5-0d6b01dfc76c",
   "metadata": {},
   "outputs": [],
   "source": [
    "smalldb = Chroma.from_texts(texts, embedding=embedding)"
   ]
  },
  {
   "cell_type": "code",
   "execution_count": 117,
   "id": "febc914c-b51d-49ce-8f1c-98d8ff160113",
   "metadata": {},
   "outputs": [],
   "source": [
    "question = \"Tell me about all-white mushrooms with large fruiting bodies\""
   ]
  },
  {
   "cell_type": "code",
   "execution_count": 118,
   "id": "c975c61b-827f-4a0c-8a30-5125b8485845",
   "metadata": {},
   "outputs": [
    {
     "data": {
      "text/plain": [
       "[Document(page_content='A mushroom with a large fruiting body is the Amanita phalloides. Some varieties are all-white.'),\n",
       " Document(page_content='The Amanita phalloides has a large and imposing epigeous (aboveground) fruiting body (basidiocarp).')]"
      ]
     },
     "execution_count": 118,
     "metadata": {},
     "output_type": "execute_result"
    }
   ],
   "source": [
    "smalldb.similarity_search(question, k=2)"
   ]
  },
  {
   "cell_type": "code",
   "execution_count": 119,
   "id": "d5dacd4b-33ef-4a92-84fa-0968bc7b256e",
   "metadata": {},
   "outputs": [
    {
     "data": {
      "text/plain": [
       "[Document(page_content='A mushroom with a large fruiting body is the Amanita phalloides. Some varieties are all-white.'),\n",
       " Document(page_content='A. phalloides, a.k.a Death Cap, is one of the most poisonous of all known mushrooms.')]"
      ]
     },
     "execution_count": 119,
     "metadata": {},
     "output_type": "execute_result"
    }
   ],
   "source": [
    "smalldb.max_marginal_relevance_search(question,k=2, fetch_k=3)"
   ]
  },
  {
   "cell_type": "code",
   "execution_count": 140,
   "id": "5af06bc6-eb6a-4a76-b9c3-d8e8b78a65cd",
   "metadata": {},
   "outputs": [
    {
     "data": {
      "text/plain": [
       "3"
      ]
     },
     "execution_count": 140,
     "metadata": {},
     "output_type": "execute_result"
    }
   ],
   "source": [
    "question = \"What are the most effective rules in golang?\"\n",
    "docs = vectordb.similarity_search(question,k=3)\n",
    "len(docs)"
   ]
  },
  {
   "cell_type": "code",
   "execution_count": 141,
   "id": "00f0751e-4fce-4d70-9fde-6ed06a56012d",
   "metadata": {},
   "outputs": [
    {
     "name": "stdout",
     "output_type": "stream",
     "text": [
      "[Document(page_content=\"Formatting\\n格式化\\nFormatting\\tissues\\tare\\tthe\\tmost\\tcontentious\\tbut\\tthe\\tleast\\tconsequential.\\tPeople\\tcan\\tadapt\\tto\\ndifferent\\tformatting\\tstyles\\tbut\\tit's\\tbetter\\tif\\tthey\\tdon't\\thave\\tto,\\tand\\tless\\ttime\\tis\\tdevoted\\tto\\tthe\\ntopic\\tif\\teveryone\\tadheres\\tto\\tthe\\tsame\\tstyle.\\tThe\\tproblem\\tis\\thow\\tto\\tapproach\\tthis\\tUtopia\\nwithout\\ta\\tlong\\tprescriptive\\tstyle\\tguide.\\n格式化问题总是充满了争议，但却始终没有形成统一的定论。虽说人们可以适应不同的编码\\n风格，\\n\\t\\n但抛弃这种适应过程岂不更好？若所有人都遵循相同的编码风格，在这类问题上浪费\\n的时间将会更少。\\n\\t\\n问题就在于如何实现这种设想，而无需冗长的语言风格规范。\\nWith\\tGo\\twe\\ttake\\tan\\tunusual\\tapproach\\tand\\tlet\\tthe\\tmachine\\ttake\\tcare\\tof\\tmost\\tformatting\\nissues.\\tThe\\tgofmt\\tprogram\\t(also\\tavailable\\tas\\tgo\\tfmt,\\twhich\\toperates\\tat\\tthe\\tpackage\\tlevel\\nrather\\tthan\\tsource\\tfile\\tlevel)\\treads\\ta\\tGo\\tprogram\\tand\\temits\\tthe\\tsource\\tin\\ta\\tstandard\\tstyle\\tof\\nindentation\\tand\\tvertical\\talignment,\\tretaining\\tand\\tif\\tnecessary\\treformatting\\tcomments.\\tIf\\tyou\\nwant\\tto\\tknow\\thow\\tto\\thandle\\tsome\\tnew\\tlayout\\tsituation,\\trun\\tgofmt;\\tif\\tthe\\tanswer\\tdoesn't\\nseem\\tright,\\trearrange\\tyour\\tprogram\\t(or\\tfile\\ta\\tbug\\tabout\\tgofmt),\\tdon't\\twork\\taround\\tit.\\n在\\n\\tGo\\t\\n中我们另辟蹊径，让机器来处理大部分的格式化问题。\\ngofmt\\t\\n程序（也可用\\n\\tgo\\tfmt\\n，它\\n以包为处理对象而非源文件）将\\n\\tGo\\t\\n程序按照标准风格缩进、\\n\\t\\n对齐，保留注释并在需要时重\\n新格式化。若你想知道如何处理一些新的代码布局，请尝试运行\\n\\tgofmt\\n；若结果仍不尽人意，\\n请重新组织你的程序（或提交有关\\n\\tgofmt\\t\\n的\\n\\tBug\\n），而不必为此纠结。\\nAs\\tan\\texample,\\tthere's\\tno\\tneed\\tto\\tspend\\ttime\\tlining\\tup\\tthe\\tcomments\\ton\\tthe\\tfields\\tof\\ta\\nstructure.\\tGofmt\\twill\\tdo\\tthat\\tfor\\tyou.\\tGiven\\tthe\\tdeclaration\\n举例来说，你无需花时间将结构体中的字段注释对齐，\\ngofmt\\t\\n将为你代劳。\\n\\t\\n假如有以下声\\n明：\\ntype\\n\\tT\\t\\nstruct\\n\\t{\\n\\t\\t\\t\\tname\\t\\nstring\\n\\t\\n//\\tname\\tof\\tthe\\tobject\\n\\t\\t\\t\\tvalue\\t\\nint\\n\\t\\n//\\tits\\tvalue\\n}\\ntype\\n\\tT\\t\\nstruct\\n\\t{\", metadata={'page': 7, 'source': 'data/effective-go-zh-en-gitbook.pdf'}), Document(page_content='Introduction引言Goisanewlanguage.Althoughitborrowsideasfromexistinglanguages,ithasunusualpropertiesthatmakeeffectiveGoprogramsdifferentincharacterfromprogramswritteninitsrelatives.AstraightforwardtranslationofaC++orJavaprogramintoGoisunlikelytoproduceasatisfactoryresult—JavaprogramsarewritteninJava,notGo.Ontheotherhand,thinkingabouttheproblemfromaGoperspectivecouldproduceasuccessfulbutquitedifferentprogram.Inotherwords,towriteGowell,it\\'simportanttounderstanditspropertiesandidioms.It\\'salsoimportanttoknowtheestablishedconventionsforprogramminginGo,suchasnaming,formatting,programconstruction,andsoon,sothatprogramsyouwritewillbeeasyforotherGoprogrammerstounderstand.Go是一门全新的语言。尽管它从既有的语言中借鉴了许多理念，但其与众不同的特性，使得使用Go编程在本质上就不同于其它语言。将现有的C++或Java程序直译为Go程序并不能令人满意——毕竟Java程序是用Java编写的，而不是Go。另一方面，若从Go的角度去分析问题，你就能编写出同样可行但大不相同的程序。换句话说，要想将Go程序写得好，就必须理解其特性和风格。了解命名、格式化、程序结构等既定规则也同样重要，这样你编写的程序才能更容易被其他程序员所理解。Thisdocumentgivestipsforwritingclear,idiomaticGocode.Itaugmentsthelanguagespecification,theTourofGo,andHowtoWriteGoCode,allofwhichyoushouldreadfirst.本文档就如何编写清晰、地道的Go代码提供了一些技巧。它是对语言规范、Go语言之旅以及如何使用Go编程的补充说明，因此我们建议您先阅读这些文档。Examples示例TheGopackagesourcesareintendedtoservenotonlyasthecorelibrarybutalsoasexamplesofhowtousethelanguage.Moreover,manyofthepackagescontainworking,self-containedexecutableexamplesyoucanrundirectlyfromthegolang.orgwebsite,suchasthisone(ifnecessary,clickontheword\"Example\"toopenitup).Ifyouhaveaquestionabouthowtoapproachaproblemorhowsomethingmightbeimplemented,thedocumentation,codeand', metadata={'page': 5, 'source': 'data/effective-go-zh-en-gitbook.pdf'}), Document(page_content=\"example,\\tin\\ta\\tlong\\tif-else\\tchain.\\tYou'll\\tsee\\tit\\tused\\toften.\\n这个特性简直就是纯粹的实用主义体现，它使得我们可以很方面地只使用一个\\n\\terr\\t\\n值，例如，\\n在一个相当长的\\n\\tif-else\\t\\n语句链中，\\n\\t\\n你会发现它用得很频繁。\\n§\\tIt's\\tworth\\tnoting\\there\\tthat\\tin\\tGo\\tthe\\tscope\\tof\\tfunction\\tparameters\\tand\\treturn\\tvalues\\tis\\tthe\\nsame\\tas\\tthe\\tfunction\\tbody,\\teven\\tthough\\tthey\\tappear\\tlexically\\toutside\\tthe\\tbraces\\tthat\\nenclose\\tthe\\tbody.\\n§\\t\\n值得一提的是，即便\\n\\tGo\\t\\n中的函数形参和返回值在词法上处于大括号之外，\\n\\t\\n但它们的作用\\n域和该函数体仍然相同。\\n控制结构\\n24\", metadata={'page': 23, 'source': 'data/effective-go-zh-en-gitbook.pdf'})]\n"
     ]
    }
   ],
   "source": [
    "print(docs)"
   ]
  },
  {
   "cell_type": "code",
   "execution_count": 142,
   "id": "696fa617-b80e-4a17-823d-be273d29e14c",
   "metadata": {},
   "outputs": [],
   "source": [
    "llm_name = \"gpt-3.5-turbo\""
   ]
  },
  {
   "cell_type": "code",
   "execution_count": 143,
   "id": "37df8bc2-8afb-4416-a128-7a205bc7b3c5",
   "metadata": {},
   "outputs": [],
   "source": [
    "from langchain.chat_models import ChatOpenAI\n",
    "llm = ChatOpenAI(model_name=llm_name,temperature=0)"
   ]
  },
  {
   "cell_type": "code",
   "execution_count": 145,
   "id": "0588b7a7-dc1e-4f97-92e9-f6b14abeb1c2",
   "metadata": {},
   "outputs": [
    {
     "data": {
      "text/plain": [
       "'Hello! How can I assist you today?'"
      ]
     },
     "execution_count": 145,
     "metadata": {},
     "output_type": "execute_result"
    }
   ],
   "source": [
    "llm.predict(\"hello golang!\")"
   ]
  },
  {
   "cell_type": "code",
   "execution_count": 146,
   "id": "23468674-bd0b-4c14-80a5-8fc6cafb5bb9",
   "metadata": {},
   "outputs": [],
   "source": [
    "from langchain.prompts import PromptTemplate"
   ]
  },
  {
   "cell_type": "code",
   "execution_count": 147,
   "id": "2669b1b0-5214-4aac-ad97-5e16a1235744",
   "metadata": {},
   "outputs": [],
   "source": [
    "template = \"\"\"Use the following pieces of context to answer the question at the end.\\n\n",
    "If you don't know the answer, just say that you don't know, don't try to make up an answer. \\n\n",
    "Use three sentences maximum. Keep the answer as concise as possible.\\n\n",
    "Always say \"thanks for asking!\" at the end of the answer. \n",
    "{context}\n",
    "Question: {question}\n",
    "Helpful Answer:\"\"\""
   ]
  },
  {
   "cell_type": "code",
   "execution_count": 149,
   "id": "f6df7857-2722-4750-a65d-1b5241159d79",
   "metadata": {},
   "outputs": [],
   "source": [
    "QA_CHAIN_PROMPT = PromptTemplate(input_variables=[\"context\",\"question\"],template=template,)"
   ]
  },
  {
   "cell_type": "code",
   "execution_count": 150,
   "id": "5ce594b4-435d-414a-96a6-8fd718b3f454",
   "metadata": {},
   "outputs": [],
   "source": [
    "from langchain.chains import RetrievalQA"
   ]
  },
  {
   "cell_type": "code",
   "execution_count": 152,
   "id": "189a5d93-2344-4c10-9a86-7570c477b327",
   "metadata": {},
   "outputs": [],
   "source": [
    "question = \"What are major topics for golang?\""
   ]
  },
  {
   "cell_type": "code",
   "execution_count": 153,
   "id": "e8b8d37f-1a0c-43d0-b70c-29c0648bedcb",
   "metadata": {},
   "outputs": [],
   "source": [
    "qa_chain = RetrievalQA.from_chain_type(\n",
    "    llm,\n",
    "    retriever = vectordb.as_retriever(),\n",
    "    return_source_documents=True,\n",
    "    chain_type_kwargs={\"prompt\":QA_CHAIN_PROMPT}\n",
    ")   "
   ]
  },
  {
   "cell_type": "code",
   "execution_count": 155,
   "id": "7c06305b-c65b-47ae-8c1c-49f1580de661",
   "metadata": {},
   "outputs": [],
   "source": [
    "result = qa_chain({\"query\":question})"
   ]
  },
  {
   "cell_type": "code",
   "execution_count": 156,
   "id": "bd78274b-af1b-4266-b93e-ac3adbd70cda",
   "metadata": {},
   "outputs": [
    {
     "name": "stdout",
     "output_type": "stream",
     "text": [
      "{'query': 'What are major topics for golang?', 'result': \"Major topics for Golang include the language's properties and idioms, established conventions for programming in Go, and tips for writing clear, idiomatic Go code. Thanks for asking!\", 'source_documents': [Document(page_content='Go\\t\\n包的源码\\n\\t\\n不仅是核心库，同时也是学习如何使用\\n\\tGo\\t\\n语言的示例源码。\\n\\t\\n此外，其中的一\\n些包还包含了可工作的，独立的可执行示例，你可以直接在\\n\\t\\ngolang.org\\n\\t\\n网站上运行它们，比\\n如\\n\\t\\n这个例子\\n\\t\\n（单击文字\\n\\t“\\n示例\\n”\\t\\n来展开它）。如果你有任何关于某些问题如何解决，或某些东\\n西如何实现的疑问，\\n\\t\\n也可以从中获取相关的答案、思路以及后台实现。\\n引言\\n7', metadata={'page': 6, 'source': 'data/effective-go-zh-en-gitbook.pdf'}), Document(page_content='Go包的源码不仅是核心库，同时也是学习如何使用Go语言的示例源码。此外，其中的一些包还包含了可工作的，独立的可执行示例，你可以直接在golang.org网站上运行它们，比如这个例子（单击文字“示例”来展开它）。如果你有任何关于某些问题如何解决，或某些东西如何实现的疑问，也可以从中获取相关的答案、思路以及后台实现。引言7', metadata={'page': 6, 'source': 'data/effective-go-zh-en-gitbook.pdf'}), Document(page_content='Introduction引言Goisanewlanguage.Althoughitborrowsideasfromexistinglanguages,ithasunusualpropertiesthatmakeeffectiveGoprogramsdifferentincharacterfromprogramswritteninitsrelatives.AstraightforwardtranslationofaC++orJavaprogramintoGoisunlikelytoproduceasatisfactoryresult—JavaprogramsarewritteninJava,notGo.Ontheotherhand,thinkingabouttheproblemfromaGoperspectivecouldproduceasuccessfulbutquitedifferentprogram.Inotherwords,towriteGowell,it\\'simportanttounderstanditspropertiesandidioms.It\\'salsoimportanttoknowtheestablishedconventionsforprogramminginGo,suchasnaming,formatting,programconstruction,andsoon,sothatprogramsyouwritewillbeeasyforotherGoprogrammerstounderstand.Go是一门全新的语言。尽管它从既有的语言中借鉴了许多理念，但其与众不同的特性，使得使用Go编程在本质上就不同于其它语言。将现有的C++或Java程序直译为Go程序并不能令人满意——毕竟Java程序是用Java编写的，而不是Go。另一方面，若从Go的角度去分析问题，你就能编写出同样可行但大不相同的程序。换句话说，要想将Go程序写得好，就必须理解其特性和风格。了解命名、格式化、程序结构等既定规则也同样重要，这样你编写的程序才能更容易被其他程序员所理解。Thisdocumentgivestipsforwritingclear,idiomaticGocode.Itaugmentsthelanguagespecification,theTourofGo,andHowtoWriteGoCode,allofwhichyoushouldreadfirst.本文档就如何编写清晰、地道的Go代码提供了一些技巧。它是对语言规范、Go语言之旅以及如何使用Go编程的补充说明，因此我们建议您先阅读这些文档。Examples示例TheGopackagesourcesareintendedtoservenotonlyasthecorelibrarybutalsoasexamplesofhowtousethelanguage.Moreover,manyofthepackagescontainworking,self-containedexecutableexamplesyoucanrundirectlyfromthegolang.orgwebsite,suchasthisone(ifnecessary,clickontheword\"Example\"toopenitup).Ifyouhaveaquestionabouthowtoapproachaproblemorhowsomethingmightbeimplemented,thedocumentation,codeand', metadata={'page': 5, 'source': 'data/effective-go-zh-en-gitbook.pdf'}), Document(page_content=\"Formatting\\n格式化\\nFormatting\\tissues\\tare\\tthe\\tmost\\tcontentious\\tbut\\tthe\\tleast\\tconsequential.\\tPeople\\tcan\\tadapt\\tto\\ndifferent\\tformatting\\tstyles\\tbut\\tit's\\tbetter\\tif\\tthey\\tdon't\\thave\\tto,\\tand\\tless\\ttime\\tis\\tdevoted\\tto\\tthe\\ntopic\\tif\\teveryone\\tadheres\\tto\\tthe\\tsame\\tstyle.\\tThe\\tproblem\\tis\\thow\\tto\\tapproach\\tthis\\tUtopia\\nwithout\\ta\\tlong\\tprescriptive\\tstyle\\tguide.\\n格式化问题总是充满了争议，但却始终没有形成统一的定论。虽说人们可以适应不同的编码\\n风格，\\n\\t\\n但抛弃这种适应过程岂不更好？若所有人都遵循相同的编码风格，在这类问题上浪费\\n的时间将会更少。\\n\\t\\n问题就在于如何实现这种设想，而无需冗长的语言风格规范。\\nWith\\tGo\\twe\\ttake\\tan\\tunusual\\tapproach\\tand\\tlet\\tthe\\tmachine\\ttake\\tcare\\tof\\tmost\\tformatting\\nissues.\\tThe\\tgofmt\\tprogram\\t(also\\tavailable\\tas\\tgo\\tfmt,\\twhich\\toperates\\tat\\tthe\\tpackage\\tlevel\\nrather\\tthan\\tsource\\tfile\\tlevel)\\treads\\ta\\tGo\\tprogram\\tand\\temits\\tthe\\tsource\\tin\\ta\\tstandard\\tstyle\\tof\\nindentation\\tand\\tvertical\\talignment,\\tretaining\\tand\\tif\\tnecessary\\treformatting\\tcomments.\\tIf\\tyou\\nwant\\tto\\tknow\\thow\\tto\\thandle\\tsome\\tnew\\tlayout\\tsituation,\\trun\\tgofmt;\\tif\\tthe\\tanswer\\tdoesn't\\nseem\\tright,\\trearrange\\tyour\\tprogram\\t(or\\tfile\\ta\\tbug\\tabout\\tgofmt),\\tdon't\\twork\\taround\\tit.\\n在\\n\\tGo\\t\\n中我们另辟蹊径，让机器来处理大部分的格式化问题。\\ngofmt\\t\\n程序（也可用\\n\\tgo\\tfmt\\n，它\\n以包为处理对象而非源文件）将\\n\\tGo\\t\\n程序按照标准风格缩进、\\n\\t\\n对齐，保留注释并在需要时重\\n新格式化。若你想知道如何处理一些新的代码布局，请尝试运行\\n\\tgofmt\\n；若结果仍不尽人意，\\n请重新组织你的程序（或提交有关\\n\\tgofmt\\t\\n的\\n\\tBug\\n），而不必为此纠结。\\nAs\\tan\\texample,\\tthere's\\tno\\tneed\\tto\\tspend\\ttime\\tlining\\tup\\tthe\\tcomments\\ton\\tthe\\tfields\\tof\\ta\\nstructure.\\tGofmt\\twill\\tdo\\tthat\\tfor\\tyou.\\tGiven\\tthe\\tdeclaration\\n举例来说，你无需花时间将结构体中的字段注释对齐，\\ngofmt\\t\\n将为你代劳。\\n\\t\\n假如有以下声\\n明：\\ntype\\n\\tT\\t\\nstruct\\n\\t{\\n\\t\\t\\t\\tname\\t\\nstring\\n\\t\\n//\\tname\\tof\\tthe\\tobject\\n\\t\\t\\t\\tvalue\\t\\nint\\n\\t\\n//\\tits\\tvalue\\n}\\ntype\\n\\tT\\t\\nstruct\\n\\t{\", metadata={'page': 7, 'source': 'data/effective-go-zh-en-gitbook.pdf'})]}\n"
     ]
    }
   ],
   "source": [
    "print(result)"
   ]
  },
  {
   "cell_type": "code",
   "execution_count": 157,
   "id": "b4c32ff9-302d-4dd9-aea7-f8271f9640dc",
   "metadata": {},
   "outputs": [],
   "source": [
    "from langchain.memory import ConversationBufferMemory\n",
    "memory = ConversationBufferMemory(\n",
    "    memory_key=\"chat_history\",\n",
    "    return_messages=True\n",
    ")"
   ]
  },
  {
   "cell_type": "code",
   "execution_count": 158,
   "id": "045461be-2b6e-40b8-b956-aafd42412f98",
   "metadata": {},
   "outputs": [],
   "source": [
    "from langchain.chains import ConversationalRetrievalChain\n",
    "retriever = vectordb.as_retriever()\n",
    "qa = ConversationalRetrievalChain.from_llm(\n",
    "    llm,\n",
    "    retriever=retriever,\n",
    "    memory = memory,\n",
    ")"
   ]
  },
  {
   "cell_type": "code",
   "execution_count": 159,
   "id": "2ec4c9fb-102f-487e-af86-97137ed00516",
   "metadata": {},
   "outputs": [],
   "source": [
    "question = \"what is interface name?\"\n",
    "result = qa({\"question\": question})"
   ]
  },
  {
   "cell_type": "code",
   "execution_count": 160,
   "id": "ec4bbda6-13ad-4288-8621-ab3728e29f59",
   "metadata": {},
   "outputs": [
    {
     "name": "stdout",
     "output_type": "stream",
     "text": [
      "{'question': 'what is interface name?', 'chat_history': [HumanMessage(content='what is interface name?'), AIMessage(content='An interface name in Go is typically named by the method name plus an \"-er\" suffix or a similar modification to construct an agent noun. For example, interfaces with only one method should be named with the method\\'s name followed by \"-er\" such as Reader, Writer, Formatter, CloseNotifier, etc. The naming convention for interfaces in Go helps to make the code more readable and understandable.')], 'answer': 'An interface name in Go is typically named by the method name plus an \"-er\" suffix or a similar modification to construct an agent noun. For example, interfaces with only one method should be named with the method\\'s name followed by \"-er\" such as Reader, Writer, Formatter, CloseNotifier, etc. The naming convention for interfaces in Go helps to make the code more readable and understandable.'}\n"
     ]
    }
   ],
   "source": [
    "print(result)"
   ]
  },
  {
   "cell_type": "code",
   "execution_count": 161,
   "id": "06fe8447-1f0e-4e6f-bfe8-c0991f5159dc",
   "metadata": {},
   "outputs": [
    {
     "name": "stdout",
     "output_type": "stream",
     "text": [
      "An interface name in Go is typically named by the method name plus an \"-er\" suffix or a similar modification to construct an agent noun. For example, interfaces with only one method should be named with the method's name followed by \"-er\" such as Reader, Writer, Formatter, CloseNotifier, etc. The naming convention for interfaces in Go helps to make the code more readable and understandable.\n"
     ]
    }
   ],
   "source": [
    "print(result['answer'])"
   ]
  },
  {
   "cell_type": "code",
   "execution_count": 162,
   "id": "59f25ad9-1f3f-45e9-8846-874c1371cf4f",
   "metadata": {},
   "outputs": [],
   "source": [
    "question = \"why are those helps to make the code more readable and understandable?\"\n",
    "result = qa({\"question\": question})"
   ]
  },
  {
   "cell_type": "code",
   "execution_count": 163,
   "id": "d5515230-5d47-48b5-838e-15b50347cd35",
   "metadata": {},
   "outputs": [
    {
     "name": "stdout",
     "output_type": "stream",
     "text": [
      "{'question': 'why are those helps to make the code more readable and understandable?', 'chat_history': [HumanMessage(content='what is interface name?'), AIMessage(content='An interface name in Go is typically named by the method name plus an \"-er\" suffix or a similar modification to construct an agent noun. For example, interfaces with only one method should be named with the method\\'s name followed by \"-er\" such as Reader, Writer, Formatter, CloseNotifier, etc. The naming convention for interfaces in Go helps to make the code more readable and understandable.'), HumanMessage(content='why are those helps to make the code more readable and understandable?'), AIMessage(content='Naming conventions for interfaces in Go help make the code more readable and understandable because they follow the convention of using MixedCaps or mixedCaps for multiword names. This convention makes it easier to distinguish individual words in the interface name, making it clearer and more readable. Consistent naming conventions also help developers quickly understand the purpose and functionality of the interface, leading to better code comprehension and maintainability.')], 'answer': 'Naming conventions for interfaces in Go help make the code more readable and understandable because they follow the convention of using MixedCaps or mixedCaps for multiword names. This convention makes it easier to distinguish individual words in the interface name, making it clearer and more readable. Consistent naming conventions also help developers quickly understand the purpose and functionality of the interface, leading to better code comprehension and maintainability.'}\n"
     ]
    }
   ],
   "source": [
    "print(result)"
   ]
  },
  {
   "cell_type": "code",
   "execution_count": 164,
   "id": "166f9e5a-d84b-4c88-b8eb-94f4307525f4",
   "metadata": {},
   "outputs": [],
   "source": [
    "result = qa({\"question\": question})"
   ]
  },
  {
   "cell_type": "code",
   "execution_count": 165,
   "id": "5a5f04ab-f7f4-48b9-be5d-08ff00117818",
   "metadata": {},
   "outputs": [
    {
     "name": "stdout",
     "output_type": "stream",
     "text": [
      "Naming conventions for interfaces in Go help make the code more readable and understandable by following the convention of using MixedCaps or mixedCaps for naming. This convention makes it easier to distinguish interfaces from other types and helps maintain consistency throughout the codebase. By using clear and concise names for interfaces, developers can quickly understand the purpose and functionality of the interface without needing to delve into the implementation details. Consistent naming conventions also make it easier for developers to collaborate on projects and understand each other's code.\n"
     ]
    }
   ],
   "source": [
    "print(result['answer'])"
   ]
  },
  {
   "cell_type": "code",
   "execution_count": null,
   "id": "c2626605-bef5-46bb-9cd7-84d4b8dea7f8",
   "metadata": {},
   "outputs": [],
   "source": []
  }
 ],
 "metadata": {
  "kernelspec": {
   "display_name": "Python 3 (ipykernel)",
   "language": "python",
   "name": "python3"
  },
  "language_info": {
   "codemirror_mode": {
    "name": "ipython",
    "version": 3
   },
   "file_extension": ".py",
   "mimetype": "text/x-python",
   "name": "python",
   "nbconvert_exporter": "python",
   "pygments_lexer": "ipython3",
   "version": "3.10.9"
  }
 },
 "nbformat": 4,
 "nbformat_minor": 5
}
