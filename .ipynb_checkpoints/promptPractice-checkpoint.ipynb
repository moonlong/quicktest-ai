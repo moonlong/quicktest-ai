{
 "cells": [
  {
   "cell_type": "code",
   "execution_count": 1,
   "id": "e8b78249",
   "metadata": {
    "ExecuteTime": {
     "end_time": "2024-04-16T14:58:34.459642Z",
     "start_time": "2024-04-16T14:58:34.451064Z"
    }
   },
   "outputs": [],
   "source": [
    "import openai\n",
    "import os\n",
    "openai.api_key = os.environ.get(\"OPENAI_API_KEY\")\n",
    "\n",
    "model='gpt-3.5-turbo'"
   ]
  },
  {
   "cell_type": "code",
   "execution_count": 56,
   "id": "c1a8e1b9",
   "metadata": {
    "ExecuteTime": {
     "end_time": "2024-04-19T07:30:39.742859Z",
     "start_time": "2024-04-19T07:30:39.693662Z"
    }
   },
   "outputs": [],
   "source": [
    "def get_completion(prompt,model=\"gpt-3.5-turbo\",temperature=0):\n",
    "    messages=[{\"role\":\"user\", \"content\":prompt}]\n",
    "    resp = openai.ChatCompletion.create(\n",
    "        model=model,\n",
    "        messages=messages,\n",
    "        temperature=temperature,\n",
    "    )\n",
    "    return resp.choices[0].message[\"content\"]"
   ]
  },
  {
   "cell_type": "code",
   "execution_count": null,
   "id": "3aee0b19",
   "metadata": {},
   "outputs": [],
   "source": [
    "#princiles of prompting\n",
    "#1 write clear and specific instructions\n",
    "#2 give the model time to think\n",
    "\n",
    "#use delimites\n",
    "# \"\"\"\n",
    "# ```\n",
    "#---\n",
    "#<>\n",
    "#\n",
    "\n",
    "# ask for struct output json\n",
    "# check conditions are satisfied and required fmt do the task\n",
    "# few-shot prompting,give some examples\n",
    "\n",
    "#----\n",
    "#要求模型进行解答，将任务分解成步骤，以便模型更充分的思考\n",
    "\n",
    "# 注意：幻觉存在\n",
    "# 方法，先要求引用相关文档，然后根据文档回答信息"
   ]
  },
  {
   "cell_type": "code",
   "execution_count": 15,
   "id": "58057097",
   "metadata": {
    "ExecuteTime": {
     "end_time": "2024-04-16T16:30:16.946218Z",
     "start_time": "2024-04-16T16:30:15.273913Z"
    },
    "scrolled": true
   },
   "outputs": [
    {
     "name": "stdout",
     "output_type": "stream",
     "text": [
      "{\n",
      "    \"city\": \"辽宁省\",\n",
      "    \"num\": \"4350万\"\n",
      "},\n",
      "{\n",
      "    \"city\": \"吉林省\",\n",
      "    \"num\": \"2740万\"\n",
      "},\n",
      "{\n",
      "    \"city\": \"黑龙江省\",\n",
      "    \"num\": \"3770万\"\n",
      "}\n"
     ]
    }
   ],
   "source": [
    "text=f\"\"\"\n",
    "列出中国东三省大概人口\n",
    "\"\"\"\n",
    "\n",
    "prompt = f\"\"\"\n",
    "回答三重引号里的问题```{text}```\n",
    "返回结果通过JSON格式返回，key如下\n",
    "city,num\n",
    "\"\"\"\n",
    "\n",
    "resp = get_completion(prompt)\n",
    "print(resp)"
   ]
  },
  {
   "cell_type": "code",
   "execution_count": 19,
   "id": "3bcb3642",
   "metadata": {
    "ExecuteTime": {
     "end_time": "2024-04-16T16:41:20.077006Z",
     "start_time": "2024-04-16T16:41:12.880787Z"
    },
    "scrolled": true
   },
   "outputs": [
    {
     "name": "stdout",
     "output_type": "stream",
     "text": [
      "```\n",
      "step 1 - 准备腌料：生姜（切丝）、牛肉（切片）、洋葱（切丝）\n",
      "step 2 - 将生姜丝、牛肉片和洋葱丝放入一个容器中\n",
      "step 3 - 加入生抽、料酒、蚝油、白糖、盐和黑胡椒粉，按照以下比例：生抽（2汤匙）、料酒（1汤匙）、蚝油（1汤匙）、白糖（1茶匙）、盐（1/2茶匙）、黑胡椒粉（适量）\n",
      "step 4 - 拌匀腌制20分钟\n",
      "step 5 - 热锅加油，将腌制好的牛肉、生姜和洋葱煎炒至熟\n",
      "step 6 - 煮好的牛肉、生姜和洋葱盖在煮好的米饭上\n",
      "step 7 - 可以根据个人口味加入蛋黄、青葱等调味料\n",
      "\n",
      "佐料清单：生抽、料酒、蚝油、白糖、盐、黑胡椒粉、油、米饭、蛋黄、青葱\n",
      "```\n"
     ]
    }
   ],
   "source": [
    "text2=f\"\"\"\n",
    "如何在家里制作经典的日式生姜烤牛肉盖饭？\n",
    "调制腌料，给出相应比例\n",
    "\"\"\"\n",
    "\n",
    "prompt2 = f\"\"\"\n",
    "回答三重引号里的问题```{text2}```\n",
    "并按照以下格式返回\n",
    "step 1 - ...\n",
    "step 2 - ...\n",
    "...\n",
    "step N - ...\n",
    "\n",
    "如果步骤中加了除生姜和牛肉、洋葱以外的佐料，在最后单独列出清单\n",
    "\"\"\"\n",
    "\n",
    "resp = get_completion(prompt2)\n",
    "print(resp)"
   ]
  },
  {
   "cell_type": "code",
   "execution_count": null,
   "id": "53f4108d",
   "metadata": {},
   "outputs": [],
   "source": [
    "#2 迭代提示的方法"
   ]
  },
  {
   "cell_type": "code",
   "execution_count": null,
   "id": "7a9c435a",
   "metadata": {},
   "outputs": [],
   "source": [
    "#idea ->implementation ->experimental result ->err analysis\n",
    "#修改idea，再次循环，直到答案满意为止\n",
    "\n",
    "# try something\n",
    "# 分析哪些想要的结果，但并没有给出\n",
    "# 明确写出指令，give more time think\n",
    "# 用一批示例e完成提示refine prompts with a batch fo examples"
   ]
  },
  {
   "cell_type": "code",
   "execution_count": 25,
   "id": "14e0677b",
   "metadata": {
    "ExecuteTime": {
     "end_time": "2024-04-17T16:26:06.891019Z",
     "start_time": "2024-04-17T16:26:06.882948Z"
    }
   },
   "outputs": [],
   "source": [
    "text3=f'''\n",
    "1. 材质：\n",
    "\n",
    "采用天然木材制作，例如樱桃木、榉木、柳木等。确保木质勺子不含有害物质，符合食品安全标准。\n",
    "2. 大小：\n",
    "\n",
    "根据实际使用需求设计多种规格和尺寸的木质勺子，以适应不同的烹饪任务和容器大小。\n",
    "3. 颜色：\n",
    "\n",
    "木质勺子通常保留天然木材的原色，色泽温和自然，不添加任何人工着色剂。\n",
    "4. 功能：\n",
    "\n",
    "木质勺子具有搅拌、搅拌、舀取、调味等多种功能，适用于各种烹饪和烘焙场景。\n",
    "表面设计平滑，不易刮伤锅具表面，确保食品不附着于勺子上，容易清洗。\n",
    "5. 对人体的影响：\n",
    "\n",
    "木质勺子采用天然木材制作，不含有害物质，对人体无害。不会释放有毒物质或异味，保证食品的安全和健康。\n",
    "6. 是否需要晾晒：\n",
    "\n",
    "为了延长木质勺子的使用寿命和保持其质地，建议在使用后将其清洗干净并晾晒于通风处，避免阳光直射和潮湿环境。\n",
    "7. 其他注意事项：\n",
    "\n",
    "木质勺子不适用于高温长时间浸泡，避免暴露在高温或湿润环境中，以免导致变形或损坏。\n",
    "建议用软布擦拭清洁，不要使用强力清洁剂或刷子，以免损伤勺子表面。\n",
    "在存放时，应避免与尖锐物品接触，以防刮花或变形。\n",
    "'''"
   ]
  },
  {
   "cell_type": "code",
   "execution_count": 26,
   "id": "99fc307c",
   "metadata": {
    "ExecuteTime": {
     "end_time": "2024-04-17T16:26:08.494431Z",
     "start_time": "2024-04-17T16:26:08.486734Z"
    }
   },
   "outputs": [],
   "source": [
    "prompt3= f'''\n",
    "根据技术说明书帮助营销团队为零售网站创建勺子产品描述。\n",
    "\n",
    "产品描述需要依据技术说明书的内容编写，内容不得夸大。\n",
    "\n",
    "产品描述主要面向零售商，所以应该是技术性的，更多关注材料、产品风格和结构\n",
    "\n",
    "最多使用50个字，并且最多3句话。\n",
    "\n",
    "用html 格式化所有内容，用于网站\n",
    "描述请使用<div>\n",
    "\n",
    "技术说明书：```{text3}```\n",
    "'''"
   ]
  },
  {
   "cell_type": "code",
   "execution_count": 27,
   "id": "3dd9f051",
   "metadata": {
    "ExecuteTime": {
     "end_time": "2024-04-17T16:26:15.019779Z",
     "start_time": "2024-04-17T16:26:11.914450Z"
    }
   },
   "outputs": [
    {
     "name": "stdout",
     "output_type": "stream",
     "text": [
      "<div>\n",
      "<h3>木质勺子产品描述：</h3>\n",
      "<p>采用天然木材制作，符合食品安全标准，适用于各种烹饪场景。</p>\n",
      "<p>色泽温和自然，表面设计平滑，易清洗，对人体无害。</p>\n",
      "<p>建议晾晒于通风处，避免高温浸泡，使用软布清洁。</p>\n",
      "</div>\n"
     ]
    }
   ],
   "source": [
    "resp = get_completion(prompt3)\n",
    "print(resp)"
   ]
  },
  {
   "cell_type": "code",
   "execution_count": 28,
   "id": "a91111ea",
   "metadata": {
    "ExecuteTime": {
     "end_time": "2024-04-17T16:26:20.267998Z",
     "start_time": "2024-04-17T16:26:20.247190Z"
    }
   },
   "outputs": [],
   "source": [
    "from IPython.display import display,HTML"
   ]
  },
  {
   "cell_type": "code",
   "execution_count": 29,
   "id": "a9cac9ed",
   "metadata": {
    "ExecuteTime": {
     "end_time": "2024-04-17T16:26:23.315377Z",
     "start_time": "2024-04-17T16:26:23.279919Z"
    }
   },
   "outputs": [
    {
     "data": {
      "text/html": [
       "<div>\n",
       "<h3>木质勺子产品描述：</h3>\n",
       "<p>采用天然木材制作，符合食品安全标准，适用于各种烹饪场景。</p>\n",
       "<p>色泽温和自然，表面设计平滑，易清洗，对人体无害。</p>\n",
       "<p>建议晾晒于通风处，避免高温浸泡，使用软布清洁。</p>\n",
       "</div>"
      ],
      "text/plain": [
       "<IPython.core.display.HTML object>"
      ]
     },
     "metadata": {},
     "output_type": "display_data"
    }
   ],
   "source": [
    "display(HTML(resp))"
   ]
  },
  {
   "cell_type": "code",
   "execution_count": null,
   "id": "8bfea8a0",
   "metadata": {},
   "outputs": [],
   "source": [
    "#4  文本总结的能力，提取能力"
   ]
  },
  {
   "cell_type": "code",
   "execution_count": 37,
   "id": "a1ac12ec",
   "metadata": {
    "ExecuteTime": {
     "end_time": "2024-04-17T16:46:44.399903Z",
     "start_time": "2024-04-17T16:46:44.376018Z"
    }
   },
   "outputs": [],
   "source": [
    "text4=f'''\n",
    "外形外观：非常好看，也很喜欢颜色是选的定制颜色，蓝色\n",
    "屏幕音效：很好，音质音效都挺好的，\n",
    "拍照效果：非常好，之前就听说拍出到照片不输入苹果，没想到是真的\n",
    "后面还送了精美礼盒是我意想不到的，耳机和笔还有一个很厚的本子，不得不说小米做的越来越好了\n",
    "'''"
   ]
  },
  {
   "cell_type": "code",
   "execution_count": 42,
   "id": "fead9312",
   "metadata": {
    "ExecuteTime": {
     "end_time": "2024-04-17T16:53:15.782610Z",
     "start_time": "2024-04-17T16:53:15.759374Z"
    }
   },
   "outputs": [],
   "source": [
    "prompt4=f'''\n",
    "你的任务是从电子商务网站的商品评论中生成一个简短摘要\n",
    "总结被三重引号的内容,30个字以内，聚焦于拍照层面\n",
    "\n",
    "review:```{text4}```\n",
    "'''"
   ]
  },
  {
   "cell_type": "code",
   "execution_count": 43,
   "id": "ac6a0384",
   "metadata": {
    "ExecuteTime": {
     "end_time": "2024-04-17T16:53:18.061613Z",
     "start_time": "2024-04-17T16:53:16.640297Z"
    }
   },
   "outputs": [
    {
     "name": "stdout",
     "output_type": "stream",
     "text": [
      "拍照效果惊艳，颜色定制蓝色，音效优秀，赠品丰富。\n"
     ]
    }
   ],
   "source": [
    "resp = get_completion(prompt4)\n",
    "print(resp) "
   ]
  },
  {
   "cell_type": "code",
   "execution_count": 51,
   "id": "fd1cfc60",
   "metadata": {
    "ExecuteTime": {
     "end_time": "2024-04-19T06:01:18.258220Z",
     "start_time": "2024-04-19T06:01:18.250133Z"
    }
   },
   "outputs": [],
   "source": [
    "#5 推理的能力，任务匹配能力或判断能力\n",
    "#对相当复杂的自然语言处理任务进行推断，\n",
    "#任务比如：支持或者反对，积极或消极，理性或感性\n",
    "#比如情感分析等捕捉感性的东西；比如捕捉讨论的主题匹配\n",
    "#\n",
    "#过去是需要通过监督数据进行针对性地学习"
   ]
  },
  {
   "cell_type": "code",
   "execution_count": 45,
   "id": "ab9d0945",
   "metadata": {
    "ExecuteTime": {
     "end_time": "2024-04-19T05:42:09.502305Z",
     "start_time": "2024-04-19T05:42:09.486346Z"
    }
   },
   "outputs": [],
   "source": [
    "text5=f'''\n",
    "DDD通过领域模型紧密对接业务需求，提升软件的业务表达力。它促进跨领域沟通，但实践难度较高，可能导致设计过度复杂化。\n",
    "'''"
   ]
  },
  {
   "cell_type": "code",
   "execution_count": 46,
   "id": "9764426f",
   "metadata": {
    "ExecuteTime": {
     "end_time": "2024-04-19T05:42:10.467601Z",
     "start_time": "2024-04-19T05:42:10.456198Z"
    }
   },
   "outputs": [],
   "source": [
    "prompt5=f'''\n",
    "你的任务是对三重引号的评论进行情感分析\n",
    "\n",
    "review:```{text5}```\n",
    "'''"
   ]
  },
  {
   "cell_type": "code",
   "execution_count": 47,
   "id": "baf094b1",
   "metadata": {
    "ExecuteTime": {
     "end_time": "2024-04-19T05:42:15.702824Z",
     "start_time": "2024-04-19T05:42:11.594543Z"
    }
   },
   "outputs": [
    {
     "name": "stdout",
     "output_type": "stream",
     "text": [
      "这段评论对DDD（领域驱动设计）进行了积极和消极的评价。积极的一面是认为DDD可以紧密对接业务需求，提升软件的业务表达力，促进跨领域沟通。但同时也指出实践难度较高，可能导致设计过度复杂化。综合来看，这段评论是比较客观和全面的，对DDD的优缺点都有所提及。\n"
     ]
    }
   ],
   "source": [
    "resp = get_completion(prompt5)\n",
    "print(resp) "
   ]
  },
  {
   "cell_type": "code",
   "execution_count": 48,
   "id": "8855b4c0",
   "metadata": {
    "ExecuteTime": {
     "end_time": "2024-04-19T05:54:49.538544Z",
     "start_time": "2024-04-19T05:54:49.475333Z"
    }
   },
   "outputs": [],
   "source": [
    "text6=f'''\n",
    "从前，在一个遥远的国度里，有一片被称为“梦幻森林”的神秘地方。森林里住着各种各样的动物，它们和睦相处，生活得很快乐。在森林的中心，有一棵非常古老的树，它的名字叫“智慧树”。据说，智慧树拥有解答一切问题的能力。\n",
    "\n",
    "在梦幻森林的边缘，有一个小村庄，村里的居民们都是勤劳善良的人们。在村庄里，住着一个好奇心很强的小女孩，名叫艾拉。艾拉总是对森林里的一切都充满好奇，但她从不敢独自一人进入森林深处。\n",
    "\n",
    "一天，村庄遇到了一个大问题：连续几个月没有下雨，河流干涸了，庄稼无法生长，村民们面临着严重的干旱。村长决定派人去森林深处寻找智慧树，希望能找到解决干旱的方法。\n",
    "\n",
    "艾拉听说了这个消息，她鼓起勇气，决定自己去寻找智慧树。她带上了一些干粮和水，独自一人踏上了旅程。在森林里，艾拉遇到了许多困难，但她凭借勇气和智慧，一一克服了。\n",
    "\n",
    "就在艾拉快要到达森林中心的时候，她遇到了一只受伤的小鹿。艾拉没有犹豫，立刻停下来帮助小鹿包扎伤口。小鹿非常感激，决定带艾拉去找智慧树。\n",
    "\n",
    "在小鹿的带领下，艾拉终于找到了智慧树。智慧树非常高大，枝叶茂盛，树下有一眼清澈的泉水。艾拉向智慧树诉说了村庄的困境，请求智慧树的帮助。\n",
    "\n",
    "智慧树微笑着对艾拉说：“勇敢的孩子，你已经找到了解决干旱的方法。那就是爱与合作。你帮助了小鹿，小鹿又帮助你找到了我。只有大家团结一心，才能克服困难。”\n",
    "\n",
    "艾拉恍然大悟，她感谢了智慧树，然后带着小鹿一起回到了村庄。她把智慧树的话告诉了村民们，大家都深受感动。从此，村民们更加团结，互相帮助，共同努力解决干旱问题。\n",
    "\n",
    "不久，天空终于下起了大雨，河流重新流淌，庄稼也恢复了生长。村庄又恢复了往日的繁荣。艾拉成了村庄的英雄，她的故事也被传颂了很久。\n",
    "\n",
    "从此，梦幻森林和村庄之间的友谊更加深厚，村民们也明白了一个道理：爱与合作是克服一切困难的法宝。而艾拉，也成了一个勇敢、智慧、善良的女孩，她的故事激励着每一个孩子，让他们相信，只要有勇气和爱心，就没有什么是不可能的。\n",
    "\n",
    "\n",
    "'''"
   ]
  },
  {
   "cell_type": "code",
   "execution_count": 49,
   "id": "f6a4f736",
   "metadata": {
    "ExecuteTime": {
     "end_time": "2024-04-19T05:54:59.230211Z",
     "start_time": "2024-04-19T05:54:51.241380Z"
    }
   },
   "outputs": [
    {
     "name": "stdout",
     "output_type": "stream",
     "text": [
      "这个童话故事的主题是爱与合作的重要性，以及勇气和智慧的价值。故事中的角色包括艾拉、智慧树、小鹿、村民们等。\n",
      "\n",
      "| 人物   | 简介                                                         |\n",
      "|--------|--------------------------------------------------------------|\n",
      "| 艾拉   | 好奇勇敢的小女孩，决心寻找智慧树解决村庄的干旱问题         |\n",
      "| 智慧树 | 拥有解答问题能力的古老树，教导艾拉爱与合作的重要性           |\n",
      "| 小鹿   | 受伤的动物，被艾拉帮助后带领她找到智慧树                     |\n",
      "| 村民们 | 善良勤劳的村庄居民，面临干旱问题，通过合作克服困难           |\n"
     ]
    }
   ],
   "source": [
    "prompt6=f'''\n",
    "你的任务是对三重引号的童话故事进行解读，\n",
    "指出童话的主题什么，都有哪些角色。\n",
    "角色通过表格返回，表格的两个title是，“人物”，“简介”\n",
    "简介需要精简\n",
    "\n",
    "review:```{text6}```\n",
    "'''\n",
    "resp = get_completion(prompt6)\n",
    "print(resp) "
   ]
  },
  {
   "cell_type": "code",
   "execution_count": null,
   "id": "c244c148",
   "metadata": {},
   "outputs": [],
   "source": [
    "#6 transforming\n",
    "#可以使用多个变量\n",
    "#可以转换语言、格式，这种偏静态的任务\n",
    "#可以转换风格、语气，这种动态的抽象的任务 \n",
    "#比如给出主要内容，按照某种格式，编写邮件\n",
    "#比如找茬，比对两个文本"
   ]
  },
  {
   "cell_type": "code",
   "execution_count": 54,
   "id": "629d1424",
   "metadata": {
    "ExecuteTime": {
     "end_time": "2024-04-19T06:22:05.721406Z",
     "start_time": "2024-04-19T06:22:02.820095Z"
    }
   },
   "outputs": [
    {
     "name": "stdout",
     "output_type": "stream",
     "text": [
      "ori msg (English): You need to position yourself and wait for the wave\n",
      "Chinese: 你需要找准位置，等待浪潮的到来\n",
      "Korean: 당신은 자리를 잡고 파도를 기다려야 합니다\n"
     ]
    }
   ],
   "source": [
    "user_messages = ['You need to position yourself and wait for the wave']\n",
    "\n",
    "for msg in user_messages:\n",
    "    prompt_1 = f\"tell me what language this is : ```{msg}```\"\n",
    "    lang = get_completion(prompt_1)\n",
    "    print(f\"ori msg ({lang}): {msg}\")\n",
    "    \n",
    "    prompt_2 = f\"\"\"\n",
    "    Translatte the following text to chinese and korean:\n",
    "    ```{msg}```\n",
    "    \"\"\"\n",
    "    \n",
    "    resp = get_completion(prompt_2)\n",
    "    print(resp)\n"
   ]
  },
  {
   "cell_type": "code",
   "execution_count": null,
   "id": "e122a80b",
   "metadata": {},
   "outputs": [],
   "source": [
    "#7 Expanding\n",
    "# 类似于根据已有的能力，自动补全（生成）\n",
    "# 补全不仅可以是硬性的，也可以是软性的灵活的富有感情的\n",
    "# 比如根据客户的评论和情感，生成定制的回复\n",
    "\n",
    "# 控制扩展多样性的参数，temperature"
   ]
  },
  {
   "cell_type": "code",
   "execution_count": 55,
   "id": "adcea14d",
   "metadata": {
    "ExecuteTime": {
     "end_time": "2024-04-19T07:22:00.754933Z",
     "start_time": "2024-04-19T07:21:54.649337Z"
    }
   },
   "outputs": [
    {
     "name": "stdout",
     "output_type": "stream",
     "text": [
      "尊敬的用户，\n",
      "\n",
      "非常感谢您对我们公司的扫地机器人购买，并且对您在使用过程中遇到的问题表示诚挚的道歉。我们对您的不满感到非常抱歉。\n",
      "\n",
      "我们非常重视您的反馈，我们会立即对机器人的地图理解和清扫效果进行进一步的优化和改进。为了更好地帮助您解决问题，我们建议您联系我们的客服团队，他们将竭诚为您提供支持和帮助。\n",
      "\n",
      "再次感谢您的反馈，我们会尽最大努力确保您的满意度。如果您有任何其他问题或疑问，请随时与我们联系。\n",
      "\n",
      "祝您生活愉快！\n",
      "\n",
      "AI客服\n"
     ]
    }
   ],
   "source": [
    "review=f'''\n",
    "我购买了贵公司的扫地机器人，但非常失望。\n",
    "机器地图理解不到位，频繁重复清扫同一区域，却无法彻底清洁地面。\n",
    "产品表现令人无奈，对此感到极为不满。\n",
    "希望能尽快解决此问题，否则我将不得不考虑退货。\n",
    "'''\n",
    "prompt7=f'''\n",
    "你是一个客户服务的ai助理。\n",
    "你的任务是根据用户的评论进行有效的友好的邮件回复\n",
    "首先对用户表示的review表示感谢\n",
    "如果用户的评论是积极的，对用户表示感谢\n",
    "如果用户的评论是消极的，进行道歉，并建议用户联系客服\n",
    "确保使用评论中的具体细节，用简明和专业的语气编写\n",
    "邮件署名'AI客服'\n",
    "用户的评论：```{review}```\n",
    "'''\n",
    "\n",
    "resp = get_completion(prompt7)\n",
    "print(resp)"
   ]
  },
  {
   "cell_type": "code",
   "execution_count": 58,
   "id": "327e8c3b",
   "metadata": {
    "ExecuteTime": {
     "end_time": "2024-04-19T07:32:34.735010Z",
     "start_time": "2024-04-19T07:32:27.521867Z"
    }
   },
   "outputs": [
    {
     "name": "stdout",
     "output_type": "stream",
     "text": [
      "尊敬的用户，\n",
      "\n",
      "非常感谢您对我们产品的反馈。我们对您在使用我们公司的扫地机器人时遇到的问题感到非常抱歉。我们深感遗憾，您对产品的性能感到失望。\n",
      "\n",
      "我们会立即将您的反馈传达给我们的研发团队，以便他们进一步改进产品的地图理解和清洁效果。同时，我们建议您联系我们的客服团队，以便他们能够为您提供更多帮助和支持，帮助您解决目前的问题。\n",
      "\n",
      "再次感谢您的反馈，我们会尽最大努力改进产品，确保您有更好的使用体验。如果您有任何其他问题或疑问，请随时与我们联系。\n",
      "\n",
      "祝您生活愉快！\n",
      "\n",
      "AI客服\n"
     ]
    }
   ],
   "source": [
    "resp = get_completion(prompt7,temperature=0.7)\n",
    "print(resp)"
   ]
  },
  {
   "cell_type": "code",
   "execution_count": 59,
   "id": "bf042a9f",
   "metadata": {
    "ExecuteTime": {
     "end_time": "2024-04-19T07:40:38.050843Z",
     "start_time": "2024-04-19T07:40:38.039396Z"
    }
   },
   "outputs": [],
   "source": [
    "#8 chatbots \n",
    "#自定义特定场景的机器人\n",
    "#比如ai客服，ai点餐机"
   ]
  },
  {
   "cell_type": "code",
   "execution_count": 61,
   "id": "5a8d418d",
   "metadata": {
    "ExecuteTime": {
     "end_time": "2024-04-19T07:52:27.368216Z",
     "start_time": "2024-04-19T07:52:27.324652Z"
    }
   },
   "outputs": [],
   "source": [
    "def get_completion_from_message(messages,model=\"gpt-3.5-turbo\",temperature=0):\n",
    "    resp = openai.ChatCompletion.create(\n",
    "        model=model,\n",
    "        messages=messages,\n",
    "        temperature=temperature,\n",
    "    )\n",
    "    return resp.choices[0].message[\"content\"]"
   ]
  },
  {
   "cell_type": "code",
   "execution_count": 71,
   "id": "d9d15b4c",
   "metadata": {
    "ExecuteTime": {
     "end_time": "2024-04-19T08:07:38.716875Z",
     "start_time": "2024-04-19T08:07:38.711534Z"
    }
   },
   "outputs": [],
   "source": [
    "messages = [\n",
    "    {\"role\":'system','content':'你是一个助理，语气类似安徒生'},\n",
    "    {\"role\":'user','content':'给我讲个童话故事'},\n",
    "]"
   ]
  },
  {
   "cell_type": "code",
   "execution_count": 72,
   "id": "fa2c7293",
   "metadata": {
    "ExecuteTime": {
     "end_time": "2024-04-19T08:07:59.098627Z",
     "start_time": "2024-04-19T08:07:46.900840Z"
    }
   },
   "outputs": [
    {
     "name": "stdout",
     "output_type": "stream",
     "text": [
      "从前，有一座古老的城堡，里面住着一位年轻美丽的公主。这位公主有一头金色的长发，皎洁如阳光，她梦想着有一天能遇到一个真正的王子，让她的生活充满爱和幸福。\n",
      "\n",
      "有一天，一位英俊的王子来到城堡，他带着玫瑰花和真挚的心意，向公主表达了对她的爱意。公主感动地接受了王子的爱，两人共同度过了许多快乐的时光。\n",
      "\n",
      "然而，幸福并不总是长久的。有一天，邪恶的巫婆嫉妒公主的美丽和幸福，用魔法将她变成了一只小鸟。王子为了拯救心爱的公主，不顾一切地踏上了冒险之旅。\n",
      "\n",
      "在旅途中，王子经历了许多困难和考验，但他的爱和勇气让他克服了一切难关。最终，王子找到了巫婆，用真挚的爱之吻解除了公主身上的魔法。公主再次变回了美丽的姿态，王子与公主之间的爱情也变得更加坚固和珍贵。\n",
      "\n",
      "从此以后，公主和王子过上了幸福美满的生活，他们的爱情故事也被传颂在世间，成为了人们心中最美丽的童话。\n"
     ]
    }
   ],
   "source": [
    "resp = get_completion_from_message(messages,temperature=1)\n",
    "print(resp)"
   ]
  },
  {
   "cell_type": "code",
   "execution_count": 74,
   "id": "bdf96453",
   "metadata": {
    "ExecuteTime": {
     "end_time": "2024-04-21T03:46:07.123130Z",
     "start_time": "2024-04-21T03:46:07.040926Z"
    }
   },
   "outputs": [
    {
     "name": "stdout",
     "output_type": "stream",
     "text": [
      "0\n",
      "1\n",
      "2\n",
      "3\n",
      "4\n",
      "5\n",
      "6\n",
      "7\n",
      "8\n",
      "9\n"
     ]
    }
   ],
   "source": [
    "for n in range (10):\n",
    "    print(n)"
   ]
  }
 ],
 "metadata": {
  "kernelspec": {
   "display_name": "Python 3 (ipykernel)",
   "language": "python",
   "name": "python3"
  },
  "language_info": {
   "codemirror_mode": {
    "name": "ipython",
    "version": 3
   },
   "file_extension": ".py",
   "mimetype": "text/x-python",
   "name": "python",
   "nbconvert_exporter": "python",
   "pygments_lexer": "ipython3",
   "version": "3.10.9"
  }
 },
 "nbformat": 4,
 "nbformat_minor": 5
}
